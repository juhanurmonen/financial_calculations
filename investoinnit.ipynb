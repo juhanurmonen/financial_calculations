{
  "nbformat": 4,
  "nbformat_minor": 0,
  "metadata": {
    "colab": {
      "provenance": []
    },
    "kernelspec": {
      "name": "python3",
      "display_name": "Python 3"
    },
    "language_info": {
      "name": "python"
    }
  },
  "cells": [
    {
      "cell_type": "markdown",
      "source": [
        "# Investointilaskelmien perusfunktioita Pythonilla"
      ],
      "metadata": {
        "id": "vUiSvwSQPzcA"
      }
    },
    {
      "cell_type": "markdown",
      "source": [
        "Rahoituslaskentaan on Excelissä hyvät funktiot. Vastaavanlaisia funktioita voi käyttää myös Pythonissa.\n",
        "\n",
        "Tässä esimerkissä tutustutaan tällaisten funktioiden käyttöön erityisesti investointilaskujen näkökulmasta."
      ],
      "metadata": {
        "id": "0R1yU38dfwXT"
      }
    },
    {
      "cell_type": "markdown",
      "source": [
        "![Finance_functions_Excel.PNG](data:image/png;base64,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)"
      ],
      "metadata": {
        "id": "5BU9TnGBfn0E"
      }
    },
    {
      "cell_type": "markdown",
      "source": [
        "Oleellista on muistaa, että rahalla on aika-arvo ja vain samanaikaisia rahoja (korkovaikutus laskettu samaan ajankohtaan) saa laskea yhteen, vähentää, vertailla.\n",
        "\n",
        "Jos tarkasteltavat rahat eivät ole samassa ajankohdassa, ne tulee sellaiseen siirtää. Tässä tullaan tärkeään **nykyarvo**n käsitteeseen."
      ],
      "metadata": {
        "id": "NTPKDpVxQCz0"
      }
    },
    {
      "cell_type": "code",
      "execution_count": 42,
      "metadata": {
        "id": "59FS59LHUIG9"
      },
      "outputs": [],
      "source": [
        "### Tuodaan peruskirjastot\n",
        "\n",
        "import pandas as pd\n",
        "import numpy as np\n",
        "\n",
        "# Numeromuotoiluja varten\n",
        "\n",
        "float_formatter = '{:.2f}'.format\n",
        "np.set_printoptions(formatter={'float_kind':float_formatter})"
      ]
    },
    {
      "cell_type": "markdown",
      "source": [
        "Tarkistetaan seuraavaksi numpy-kirjaston versio. Sen versiosta 1.15 lähtien rahoitusfunktiot ovat olleet omassa kirjastossan numpy-financial."
      ],
      "metadata": {
        "id": "s3Rxlwl2DeQU"
      }
    },
    {
      "cell_type": "code",
      "source": [
        "print(np.__version__)"
      ],
      "metadata": {
        "colab": {
          "base_uri": "https://localhost:8080/"
        },
        "id": "WlHUiO3LX4Ry",
        "outputId": "8363c3d7-5957-4ce1-8777-30481996bd0f"
      },
      "execution_count": 43,
      "outputs": [
        {
          "output_type": "stream",
          "name": "stdout",
          "text": [
            "1.23.5\n"
          ]
        }
      ]
    },
    {
      "cell_type": "code",
      "source": [
        "!pip install numpy-financial"
      ],
      "metadata": {
        "colab": {
          "base_uri": "https://localhost:8080/"
        },
        "id": "AFzqV1mbY8eK",
        "outputId": "7a21ef2a-63ec-4977-ac88-f7df00cd6a8d"
      },
      "execution_count": 44,
      "outputs": [
        {
          "output_type": "stream",
          "name": "stdout",
          "text": [
            "Requirement already satisfied: numpy-financial in /usr/local/lib/python3.10/dist-packages (1.0.0)\n",
            "Requirement already satisfied: numpy>=1.15 in /usr/local/lib/python3.10/dist-packages (from numpy-financial) (1.23.5)\n"
          ]
        }
      ]
    },
    {
      "cell_type": "code",
      "source": [
        "import numpy_financial as npf"
      ],
      "metadata": {
        "id": "W-ozy5xvUOzI"
      },
      "execution_count": 51,
      "outputs": []
    },
    {
      "cell_type": "markdown",
      "source": [
        "Investointilaskelmat ovat rahoituslaskelman perusmenetelmiä. Asiasta löytyy lisätietoa mistä tahansa alan peruskirjallisuudesta. Eräs kooste käytettävistä laskentamenetelmistä löytyy [slideshare-palvelusta](https://www.slideshare.net/juhanurmonen/investointilaskelmat-123566310)\n",
        "\n",
        "\n",
        "* nykyarvomenetelmä\n",
        "* sisäisen korkokannan menetelmä\n",
        "*annuiteettimenetelmä\n",
        "\n",
        "Tutustutaan seuraavaksi näihin laskentatapoihin esimerkkien avulla, tässä tapauksessa Pythonia ja numpya hyödyntäen."
      ],
      "metadata": {
        "id": "6eUSU7fPEFpn"
      }
    },
    {
      "cell_type": "markdown",
      "source": [
        "## Nykyarvomenetelmä"
      ],
      "metadata": {
        "id": "NLsA1xW1wCdm"
      }
    },
    {
      "cell_type": "markdown",
      "source": [
        "Nykyarvomenetelmässä lasketaan tulevien tuottojen tai kustannussäästöjen nykyarvo ja sitä verrataan investointikustannuksiin."
      ],
      "metadata": {
        "id": "jTllOBQwwFiH"
      }
    },
    {
      "cell_type": "markdown",
      "source": [
        "**Esimerkki**\n",
        "\n",
        "Yritykseen hankittava atk-laitteisto maksaisi 420 000 € .Sitä voitaisiin käyttää 3 vuotta, jonka jälkeen  se on myytävissä hintaan 150 000 €. Laitteistolla saavutetaan ensimmäisenä vuonna 80 000 euron, toisena vuonna 120 000 €:n ja kolmantena vuonna 130 000 €:n kustannussäästö.\n",
        "\n",
        "Tuottaako laitteistoon sijoitettu raha 10 % vuodessa ?"
      ],
      "metadata": {
        "id": "f-stswjP5X6N"
      }
    },
    {
      "cell_type": "code",
      "source": [
        "saastot = np.array([80000, 120000, 130000+150000])\n",
        "korko = 0.1\n",
        "hankintahinta = 420000\n",
        "\n",
        "nykyarvo_saastot = npf.npv(korko, saastot)\n",
        "\n",
        "nykyarvo_saastot"
      ],
      "metadata": {
        "id": "jVpG4O_JYqkQ",
        "colab": {
          "base_uri": "https://localhost:8080/"
        },
        "outputId": "d6470ceb-f059-46b1-d2bd-7e460a6a4051"
      },
      "execution_count": 47,
      "outputs": [
        {
          "output_type": "execute_result",
          "data": {
            "text/plain": [
              "420495.867768595"
            ]
          },
          "metadata": {},
          "execution_count": 47
        }
      ]
    },
    {
      "cell_type": "code",
      "source": [
        "### Tulostetaan vielä vastaus\n",
        "\n",
        "if nykyarvo_saastot <= hankintahinta :\n",
        "  print(f'Investointi ei kannata, säästöjen nykyarvo ei ylitä hankintahintaa, jos tavoitetuotto on', korko*100, ' %.')\n",
        "else : print(f'Investointi kannattaa, säästöjen nykyarvo ylittää hankintahinnan', nykyarvo_saastot-hankintahinta, 'eurolla.')"
      ],
      "metadata": {
        "colab": {
          "base_uri": "https://localhost:8080/"
        },
        "id": "lEphCc_J7PGx",
        "outputId": "70a9e73b-46a3-483d-cade-cdb8cd5f488e"
      },
      "execution_count": 48,
      "outputs": [
        {
          "output_type": "stream",
          "name": "stdout",
          "text": [
            "Investointi kannattaa, säästöjen nykyarvo ylittää hankintahinnan 495.86776859499514 eurolla.\n"
          ]
        }
      ]
    },
    {
      "cell_type": "markdown",
      "source": [
        "**Esimerkki.** _Nykyarvo_\n",
        "\n",
        "Investoinnin hankintahinta on  500 000 € ja se tuottaa nettotuottoa vuoden kuluttua 150 000 €. Tämän jälkeen nettotuottojen arvioidaan kasvavan vuosittain 5 prosentilla. Investointiajan arvioidaan olevan 5 vuotta ja jäännösarvo on 10 000 €.\n",
        "\n",
        "a) Määritä investoinnin nettonykyarvo, kun laskentakorkokanta on 15 %.\n",
        "\n",
        "b) Tee herkkyysanalyysi muuttaen laskentakorkokantaa ja nettotuottojen  vuosittaista kasvuodotusta.\n"
      ],
      "metadata": {
        "id": "c4Tpl_9nrjk5"
      }
    },
    {
      "cell_type": "code",
      "source": [
        "### Määritellään laskentamalli\n",
        "\n",
        "hankintahinta_nykyarvo = 5000000 # valuuttaa\n",
        "jaannosarvo_nykyarvo = 10000 # valuuttaa\n",
        "vuotuinen_kasvu_nykyarvo = 0.05 # prosenttia desimaalilukuna\n",
        "investointiaika_nykyarvo = 5 # vuotta\n",
        "laskentakorko_nykyarvo = .15 # prosenttia desimaalilukuna\n"
      ],
      "metadata": {
        "id": "k-1Dk50vrPgO"
      },
      "execution_count": 53,
      "outputs": []
    },
    {
      "cell_type": "code",
      "source": [
        "### Lasketaan vuotuiset tuotot\n",
        "\n",
        "tuotto_1v_nykyarvo = (1+vuotuinen_kasvu_nykyarvo)*hankintahinta_nykyarvo\n",
        "tuotto_2v_nykyarvo = (1+vuotuinen_kasvu_nykyarvo)*tuotto_1v_nykyarvo\n",
        "tuotto_3v_nykyarvo = (1+vuotuinen_kasvu_nykyarvo)*tuotto_2v_nykyarvo\n",
        "tuotto_4v_nykyarvo = (1+vuotuinen_kasvu_nykyarvo)*tuotto_3v_nykyarvo\n",
        "tuotto_5v_nykyarvo = (1+vuotuinen_kasvu_nykyarvo)*tuotto_4v_nykyarvo+jaannosarvo_nykyarvo\n",
        "\n",
        "### Määritellään laskentamalli\n",
        "\n",
        "def nettonykyarvo_malli(laskentakorko_nykyarvo, vuotuinen_kasvu_nykyarvo):\n",
        "  return npf.npv(laskentakorko_nykyarvo, [tuotto_1v_nykyarvo, tuotto_2v_nykyarvo, tuotto_3v_nykyarvo, tuotto_4v_nykyarvo, tuotto_5v_nykyarvo])"
      ],
      "metadata": {
        "id": "1OZIpjdmslji"
      },
      "execution_count": 54,
      "outputs": []
    },
    {
      "cell_type": "code",
      "source": [
        "y = nettonykyarvo_malli(laskentakorko_nykyarvo, vuotuinen_kasvu_nykyarvo)\n",
        "y"
      ],
      "metadata": {
        "colab": {
          "base_uri": "https://localhost:8080/"
        },
        "id": "BhOWpg8buUg8",
        "outputId": "d283f6bd-84f7-45f9-cf87-5a480decb9ec"
      },
      "execution_count": 58,
      "outputs": [
        {
          "output_type": "execute_result",
          "data": {
            "text/plain": [
              "22070515.935834996"
            ]
          },
          "metadata": {},
          "execution_count": 58
        }
      ]
    },
    {
      "cell_type": "code",
      "source": [
        "!pip install sensitivity"
      ],
      "metadata": {
        "colab": {
          "base_uri": "https://localhost:8080/"
        },
        "id": "Voy9wuAR85mD",
        "outputId": "2dc2ba0b-38ca-46bd-ccbc-f6503d803e3f"
      },
      "execution_count": 56,
      "outputs": [
        {
          "output_type": "stream",
          "name": "stdout",
          "text": [
            "Requirement already satisfied: sensitivity in /usr/local/lib/python3.10/dist-packages (0.2.8)\n",
            "Requirement already satisfied: pandas>=1 in /usr/local/lib/python3.10/dist-packages (from sensitivity) (1.5.3)\n",
            "Requirement already satisfied: matplotlib in /usr/local/lib/python3.10/dist-packages (from sensitivity) (3.7.1)\n",
            "Requirement already satisfied: IPython in /usr/local/lib/python3.10/dist-packages (from sensitivity) (7.34.0)\n",
            "Requirement already satisfied: tqdm in /usr/local/lib/python3.10/dist-packages (from sensitivity) (4.66.1)\n",
            "Requirement already satisfied: python-dateutil>=2.8.1 in /usr/local/lib/python3.10/dist-packages (from pandas>=1->sensitivity) (2.8.2)\n",
            "Requirement already satisfied: pytz>=2020.1 in /usr/local/lib/python3.10/dist-packages (from pandas>=1->sensitivity) (2023.4)\n",
            "Requirement already satisfied: numpy>=1.21.0 in /usr/local/lib/python3.10/dist-packages (from pandas>=1->sensitivity) (1.23.5)\n",
            "Requirement already satisfied: setuptools>=18.5 in /usr/local/lib/python3.10/dist-packages (from IPython->sensitivity) (67.7.2)\n",
            "Requirement already satisfied: jedi>=0.16 in /usr/local/lib/python3.10/dist-packages (from IPython->sensitivity) (0.19.1)\n",
            "Requirement already satisfied: decorator in /usr/local/lib/python3.10/dist-packages (from IPython->sensitivity) (4.4.2)\n",
            "Requirement already satisfied: pickleshare in /usr/local/lib/python3.10/dist-packages (from IPython->sensitivity) (0.7.5)\n",
            "Requirement already satisfied: traitlets>=4.2 in /usr/local/lib/python3.10/dist-packages (from IPython->sensitivity) (5.7.1)\n",
            "Requirement already satisfied: prompt-toolkit!=3.0.0,!=3.0.1,<3.1.0,>=2.0.0 in /usr/local/lib/python3.10/dist-packages (from IPython->sensitivity) (3.0.43)\n",
            "Requirement already satisfied: pygments in /usr/local/lib/python3.10/dist-packages (from IPython->sensitivity) (2.16.1)\n",
            "Requirement already satisfied: backcall in /usr/local/lib/python3.10/dist-packages (from IPython->sensitivity) (0.2.0)\n",
            "Requirement already satisfied: matplotlib-inline in /usr/local/lib/python3.10/dist-packages (from IPython->sensitivity) (0.1.6)\n",
            "Requirement already satisfied: pexpect>4.3 in /usr/local/lib/python3.10/dist-packages (from IPython->sensitivity) (4.9.0)\n",
            "Requirement already satisfied: contourpy>=1.0.1 in /usr/local/lib/python3.10/dist-packages (from matplotlib->sensitivity) (1.2.0)\n",
            "Requirement already satisfied: cycler>=0.10 in /usr/local/lib/python3.10/dist-packages (from matplotlib->sensitivity) (0.12.1)\n",
            "Requirement already satisfied: fonttools>=4.22.0 in /usr/local/lib/python3.10/dist-packages (from matplotlib->sensitivity) (4.47.2)\n",
            "Requirement already satisfied: kiwisolver>=1.0.1 in /usr/local/lib/python3.10/dist-packages (from matplotlib->sensitivity) (1.4.5)\n",
            "Requirement already satisfied: packaging>=20.0 in /usr/local/lib/python3.10/dist-packages (from matplotlib->sensitivity) (23.2)\n",
            "Requirement already satisfied: pillow>=6.2.0 in /usr/local/lib/python3.10/dist-packages (from matplotlib->sensitivity) (9.4.0)\n",
            "Requirement already satisfied: pyparsing>=2.3.1 in /usr/local/lib/python3.10/dist-packages (from matplotlib->sensitivity) (3.1.1)\n",
            "Requirement already satisfied: parso<0.9.0,>=0.8.3 in /usr/local/lib/python3.10/dist-packages (from jedi>=0.16->IPython->sensitivity) (0.8.3)\n",
            "Requirement already satisfied: ptyprocess>=0.5 in /usr/local/lib/python3.10/dist-packages (from pexpect>4.3->IPython->sensitivity) (0.7.0)\n",
            "Requirement already satisfied: wcwidth in /usr/local/lib/python3.10/dist-packages (from prompt-toolkit!=3.0.0,!=3.0.1,<3.1.0,>=2.0.0->IPython->sensitivity) (0.2.13)\n",
            "Requirement already satisfied: six>=1.5 in /usr/local/lib/python3.10/dist-packages (from python-dateutil>=2.8.1->pandas>=1->sensitivity) (1.16.0)\n"
          ]
        }
      ]
    },
    {
      "cell_type": "code",
      "source": [
        "from sensitivity import SensitivityAnalyzer\n",
        "\n",
        "sensitivity_dict = {\n",
        "    'vuotuinen_kasvu_nykyarvo' : [-.2, -.15, -.1, -.05, .0, .05, .1, .15, .2, .25, .3],\n",
        "    'laskentakorko_nykyarvo' : [.03, .05, .7, .11, .13, .15, .17, .19, .21, .23]\n",
        "}\n",
        "\n",
        "sa = SensitivityAnalyzer(sensitivity_dict, nettonykyarvo_malli)"
      ],
      "metadata": {
        "colab": {
          "base_uri": "https://localhost:8080/"
        },
        "id": "wVQ7Bj24AslJ",
        "outputId": "39b8ad59-e68d-4c68-f9bd-d06d2ec08804"
      },
      "execution_count": 60,
      "outputs": [
        {
          "output_type": "stream",
          "name": "stderr",
          "text": [
            "100%|██████████| 110/110 [00:00<00:00, 936.19it/s]\n"
          ]
        }
      ]
    },
    {
      "cell_type": "code",
      "source": [
        "sa.df"
      ],
      "metadata": {
        "colab": {
          "base_uri": "https://localhost:8080/",
          "height": 424
        },
        "id": "cV4Mn7EaqdEV",
        "outputId": "1a59f2ce-c23a-4c55-fb20-3bad8e216184"
      },
      "execution_count": 61,
      "outputs": [
        {
          "output_type": "execute_result",
          "data": {
            "text/plain": [
              "     vuotuinen_kasvu_nykyarvo  laskentakorko_nykyarvo           Result\n",
              "0                        -0.2                    0.03  27298289.786377\n",
              "1                        -0.2                    0.05  26258227.024748\n",
              "2                        -0.2                     0.7  12497734.664037\n",
              "3                        -0.2                    0.11   23568045.07671\n",
              "4                        -0.2                    0.13  22793273.607477\n",
              "..                        ...                     ...              ...\n",
              "105                       0.3                    0.15  22070515.935835\n",
              "106                       0.3                    0.17  21395248.864792\n",
              "107                       0.3                    0.19  20763421.691884\n",
              "108                       0.3                    0.21  20171399.244475\n",
              "109                       0.3                    0.23  19615912.644067\n",
              "\n",
              "[110 rows x 3 columns]"
            ],
            "text/html": [
              "\n",
              "  <div id=\"df-bea980cf-b40f-4dcd-82e3-61bc8451ee12\" class=\"colab-df-container\">\n",
              "    <div>\n",
              "<style scoped>\n",
              "    .dataframe tbody tr th:only-of-type {\n",
              "        vertical-align: middle;\n",
              "    }\n",
              "\n",
              "    .dataframe tbody tr th {\n",
              "        vertical-align: top;\n",
              "    }\n",
              "\n",
              "    .dataframe thead th {\n",
              "        text-align: right;\n",
              "    }\n",
              "</style>\n",
              "<table border=\"1\" class=\"dataframe\">\n",
              "  <thead>\n",
              "    <tr style=\"text-align: right;\">\n",
              "      <th></th>\n",
              "      <th>vuotuinen_kasvu_nykyarvo</th>\n",
              "      <th>laskentakorko_nykyarvo</th>\n",
              "      <th>Result</th>\n",
              "    </tr>\n",
              "  </thead>\n",
              "  <tbody>\n",
              "    <tr>\n",
              "      <th>0</th>\n",
              "      <td>-0.2</td>\n",
              "      <td>0.03</td>\n",
              "      <td>27298289.786377</td>\n",
              "    </tr>\n",
              "    <tr>\n",
              "      <th>1</th>\n",
              "      <td>-0.2</td>\n",
              "      <td>0.05</td>\n",
              "      <td>26258227.024748</td>\n",
              "    </tr>\n",
              "    <tr>\n",
              "      <th>2</th>\n",
              "      <td>-0.2</td>\n",
              "      <td>0.7</td>\n",
              "      <td>12497734.664037</td>\n",
              "    </tr>\n",
              "    <tr>\n",
              "      <th>3</th>\n",
              "      <td>-0.2</td>\n",
              "      <td>0.11</td>\n",
              "      <td>23568045.07671</td>\n",
              "    </tr>\n",
              "    <tr>\n",
              "      <th>4</th>\n",
              "      <td>-0.2</td>\n",
              "      <td>0.13</td>\n",
              "      <td>22793273.607477</td>\n",
              "    </tr>\n",
              "    <tr>\n",
              "      <th>...</th>\n",
              "      <td>...</td>\n",
              "      <td>...</td>\n",
              "      <td>...</td>\n",
              "    </tr>\n",
              "    <tr>\n",
              "      <th>105</th>\n",
              "      <td>0.3</td>\n",
              "      <td>0.15</td>\n",
              "      <td>22070515.935835</td>\n",
              "    </tr>\n",
              "    <tr>\n",
              "      <th>106</th>\n",
              "      <td>0.3</td>\n",
              "      <td>0.17</td>\n",
              "      <td>21395248.864792</td>\n",
              "    </tr>\n",
              "    <tr>\n",
              "      <th>107</th>\n",
              "      <td>0.3</td>\n",
              "      <td>0.19</td>\n",
              "      <td>20763421.691884</td>\n",
              "    </tr>\n",
              "    <tr>\n",
              "      <th>108</th>\n",
              "      <td>0.3</td>\n",
              "      <td>0.21</td>\n",
              "      <td>20171399.244475</td>\n",
              "    </tr>\n",
              "    <tr>\n",
              "      <th>109</th>\n",
              "      <td>0.3</td>\n",
              "      <td>0.23</td>\n",
              "      <td>19615912.644067</td>\n",
              "    </tr>\n",
              "  </tbody>\n",
              "</table>\n",
              "<p>110 rows × 3 columns</p>\n",
              "</div>\n",
              "    <div class=\"colab-df-buttons\">\n",
              "\n",
              "  <div class=\"colab-df-container\">\n",
              "    <button class=\"colab-df-convert\" onclick=\"convertToInteractive('df-bea980cf-b40f-4dcd-82e3-61bc8451ee12')\"\n",
              "            title=\"Convert this dataframe to an interactive table.\"\n",
              "            style=\"display:none;\">\n",
              "\n",
              "  <svg xmlns=\"http://www.w3.org/2000/svg\" height=\"24px\" viewBox=\"0 -960 960 960\">\n",
              "    <path d=\"M120-120v-720h720v720H120Zm60-500h600v-160H180v160Zm220 220h160v-160H400v160Zm0 220h160v-160H400v160ZM180-400h160v-160H180v160Zm440 0h160v-160H620v160ZM180-180h160v-160H180v160Zm440 0h160v-160H620v160Z\"/>\n",
              "  </svg>\n",
              "    </button>\n",
              "\n",
              "  <style>\n",
              "    .colab-df-container {\n",
              "      display:flex;\n",
              "      gap: 12px;\n",
              "    }\n",
              "\n",
              "    .colab-df-convert {\n",
              "      background-color: #E8F0FE;\n",
              "      border: none;\n",
              "      border-radius: 50%;\n",
              "      cursor: pointer;\n",
              "      display: none;\n",
              "      fill: #1967D2;\n",
              "      height: 32px;\n",
              "      padding: 0 0 0 0;\n",
              "      width: 32px;\n",
              "    }\n",
              "\n",
              "    .colab-df-convert:hover {\n",
              "      background-color: #E2EBFA;\n",
              "      box-shadow: 0px 1px 2px rgba(60, 64, 67, 0.3), 0px 1px 3px 1px rgba(60, 64, 67, 0.15);\n",
              "      fill: #174EA6;\n",
              "    }\n",
              "\n",
              "    .colab-df-buttons div {\n",
              "      margin-bottom: 4px;\n",
              "    }\n",
              "\n",
              "    [theme=dark] .colab-df-convert {\n",
              "      background-color: #3B4455;\n",
              "      fill: #D2E3FC;\n",
              "    }\n",
              "\n",
              "    [theme=dark] .colab-df-convert:hover {\n",
              "      background-color: #434B5C;\n",
              "      box-shadow: 0px 1px 3px 1px rgba(0, 0, 0, 0.15);\n",
              "      filter: drop-shadow(0px 1px 2px rgba(0, 0, 0, 0.3));\n",
              "      fill: #FFFFFF;\n",
              "    }\n",
              "  </style>\n",
              "\n",
              "    <script>\n",
              "      const buttonEl =\n",
              "        document.querySelector('#df-bea980cf-b40f-4dcd-82e3-61bc8451ee12 button.colab-df-convert');\n",
              "      buttonEl.style.display =\n",
              "        google.colab.kernel.accessAllowed ? 'block' : 'none';\n",
              "\n",
              "      async function convertToInteractive(key) {\n",
              "        const element = document.querySelector('#df-bea980cf-b40f-4dcd-82e3-61bc8451ee12');\n",
              "        const dataTable =\n",
              "          await google.colab.kernel.invokeFunction('convertToInteractive',\n",
              "                                                    [key], {});\n",
              "        if (!dataTable) return;\n",
              "\n",
              "        const docLinkHtml = 'Like what you see? Visit the ' +\n",
              "          '<a target=\"_blank\" href=https://colab.research.google.com/notebooks/data_table.ipynb>data table notebook</a>'\n",
              "          + ' to learn more about interactive tables.';\n",
              "        element.innerHTML = '';\n",
              "        dataTable['output_type'] = 'display_data';\n",
              "        await google.colab.output.renderOutput(dataTable, element);\n",
              "        const docLink = document.createElement('div');\n",
              "        docLink.innerHTML = docLinkHtml;\n",
              "        element.appendChild(docLink);\n",
              "      }\n",
              "    </script>\n",
              "  </div>\n",
              "\n",
              "\n",
              "<div id=\"df-deac3f8d-8bad-4108-b154-a6420c52acff\">\n",
              "  <button class=\"colab-df-quickchart\" onclick=\"quickchart('df-deac3f8d-8bad-4108-b154-a6420c52acff')\"\n",
              "            title=\"Suggest charts\"\n",
              "            style=\"display:none;\">\n",
              "\n",
              "<svg xmlns=\"http://www.w3.org/2000/svg\" height=\"24px\"viewBox=\"0 0 24 24\"\n",
              "     width=\"24px\">\n",
              "    <g>\n",
              "        <path d=\"M19 3H5c-1.1 0-2 .9-2 2v14c0 1.1.9 2 2 2h14c1.1 0 2-.9 2-2V5c0-1.1-.9-2-2-2zM9 17H7v-7h2v7zm4 0h-2V7h2v10zm4 0h-2v-4h2v4z\"/>\n",
              "    </g>\n",
              "</svg>\n",
              "  </button>\n",
              "\n",
              "<style>\n",
              "  .colab-df-quickchart {\n",
              "      --bg-color: #E8F0FE;\n",
              "      --fill-color: #1967D2;\n",
              "      --hover-bg-color: #E2EBFA;\n",
              "      --hover-fill-color: #174EA6;\n",
              "      --disabled-fill-color: #AAA;\n",
              "      --disabled-bg-color: #DDD;\n",
              "  }\n",
              "\n",
              "  [theme=dark] .colab-df-quickchart {\n",
              "      --bg-color: #3B4455;\n",
              "      --fill-color: #D2E3FC;\n",
              "      --hover-bg-color: #434B5C;\n",
              "      --hover-fill-color: #FFFFFF;\n",
              "      --disabled-bg-color: #3B4455;\n",
              "      --disabled-fill-color: #666;\n",
              "  }\n",
              "\n",
              "  .colab-df-quickchart {\n",
              "    background-color: var(--bg-color);\n",
              "    border: none;\n",
              "    border-radius: 50%;\n",
              "    cursor: pointer;\n",
              "    display: none;\n",
              "    fill: var(--fill-color);\n",
              "    height: 32px;\n",
              "    padding: 0;\n",
              "    width: 32px;\n",
              "  }\n",
              "\n",
              "  .colab-df-quickchart:hover {\n",
              "    background-color: var(--hover-bg-color);\n",
              "    box-shadow: 0 1px 2px rgba(60, 64, 67, 0.3), 0 1px 3px 1px rgba(60, 64, 67, 0.15);\n",
              "    fill: var(--button-hover-fill-color);\n",
              "  }\n",
              "\n",
              "  .colab-df-quickchart-complete:disabled,\n",
              "  .colab-df-quickchart-complete:disabled:hover {\n",
              "    background-color: var(--disabled-bg-color);\n",
              "    fill: var(--disabled-fill-color);\n",
              "    box-shadow: none;\n",
              "  }\n",
              "\n",
              "  .colab-df-spinner {\n",
              "    border: 2px solid var(--fill-color);\n",
              "    border-color: transparent;\n",
              "    border-bottom-color: var(--fill-color);\n",
              "    animation:\n",
              "      spin 1s steps(1) infinite;\n",
              "  }\n",
              "\n",
              "  @keyframes spin {\n",
              "    0% {\n",
              "      border-color: transparent;\n",
              "      border-bottom-color: var(--fill-color);\n",
              "      border-left-color: var(--fill-color);\n",
              "    }\n",
              "    20% {\n",
              "      border-color: transparent;\n",
              "      border-left-color: var(--fill-color);\n",
              "      border-top-color: var(--fill-color);\n",
              "    }\n",
              "    30% {\n",
              "      border-color: transparent;\n",
              "      border-left-color: var(--fill-color);\n",
              "      border-top-color: var(--fill-color);\n",
              "      border-right-color: var(--fill-color);\n",
              "    }\n",
              "    40% {\n",
              "      border-color: transparent;\n",
              "      border-right-color: var(--fill-color);\n",
              "      border-top-color: var(--fill-color);\n",
              "    }\n",
              "    60% {\n",
              "      border-color: transparent;\n",
              "      border-right-color: var(--fill-color);\n",
              "    }\n",
              "    80% {\n",
              "      border-color: transparent;\n",
              "      border-right-color: var(--fill-color);\n",
              "      border-bottom-color: var(--fill-color);\n",
              "    }\n",
              "    90% {\n",
              "      border-color: transparent;\n",
              "      border-bottom-color: var(--fill-color);\n",
              "    }\n",
              "  }\n",
              "</style>\n",
              "\n",
              "  <script>\n",
              "    async function quickchart(key) {\n",
              "      const quickchartButtonEl =\n",
              "        document.querySelector('#' + key + ' button');\n",
              "      quickchartButtonEl.disabled = true;  // To prevent multiple clicks.\n",
              "      quickchartButtonEl.classList.add('colab-df-spinner');\n",
              "      try {\n",
              "        const charts = await google.colab.kernel.invokeFunction(\n",
              "            'suggestCharts', [key], {});\n",
              "      } catch (error) {\n",
              "        console.error('Error during call to suggestCharts:', error);\n",
              "      }\n",
              "      quickchartButtonEl.classList.remove('colab-df-spinner');\n",
              "      quickchartButtonEl.classList.add('colab-df-quickchart-complete');\n",
              "    }\n",
              "    (() => {\n",
              "      let quickchartButtonEl =\n",
              "        document.querySelector('#df-deac3f8d-8bad-4108-b154-a6420c52acff button');\n",
              "      quickchartButtonEl.style.display =\n",
              "        google.colab.kernel.accessAllowed ? 'block' : 'none';\n",
              "    })();\n",
              "  </script>\n",
              "</div>\n",
              "    </div>\n",
              "  </div>\n"
            ]
          },
          "metadata": {},
          "execution_count": 61
        }
      ]
    },
    {
      "cell_type": "code",
      "source": [
        "plot = sa.plot()\n",
        "\n",
        "styled = sa.styled_dfs(num_fmt='{:,.0f} €')"
      ],
      "metadata": {
        "colab": {
          "base_uri": "https://localhost:8080/",
          "height": 962
        },
        "id": "-1LbS7qmvgYJ",
        "outputId": "4dc884d7-7594-4bb2-e769-a1d295704b91"
      },
      "execution_count": 63,
      "outputs": [
        {
          "output_type": "display_data",
          "data": {
            "text/plain": [
              "<IPython.core.display.HTML object>"
            ],
            "text/html": [
              "<h2>Result by vuotuinen_kasvu_nykyarvo vs. laskentakorko_nykyarvo</h2>"
            ]
          },
          "metadata": {}
        },
        {
          "output_type": "display_data",
          "data": {
            "text/plain": [
              "<IPython.core.display.HTML object>"
            ],
            "text/html": [
              "<style type=\"text/css\">\n",
              "#T_22849_row0_col0, #T_22849_row1_col0, #T_22849_row2_col0, #T_22849_row3_col0, #T_22849_row4_col0, #T_22849_row5_col0, #T_22849_row6_col0, #T_22849_row7_col0, #T_22849_row8_col0, #T_22849_row9_col0, #T_22849_row10_col0 {\n",
              "  background-color: #006837;\n",
              "  color: #f1f1f1;\n",
              "}\n",
              "#T_22849_row0_col1, #T_22849_row1_col1, #T_22849_row2_col1, #T_22849_row3_col1, #T_22849_row4_col1, #T_22849_row5_col1, #T_22849_row6_col1, #T_22849_row7_col1, #T_22849_row8_col1, #T_22849_row9_col1, #T_22849_row10_col1 {\n",
              "  background-color: #118848;\n",
              "  color: #f1f1f1;\n",
              "}\n",
              "#T_22849_row0_col2, #T_22849_row1_col2, #T_22849_row2_col2, #T_22849_row3_col2, #T_22849_row4_col2, #T_22849_row5_col2, #T_22849_row6_col2, #T_22849_row7_col2, #T_22849_row8_col2, #T_22849_row9_col2, #T_22849_row10_col2 {\n",
              "  background-color: #87cb67;\n",
              "  color: #000000;\n",
              "}\n",
              "#T_22849_row0_col3, #T_22849_row1_col3, #T_22849_row2_col3, #T_22849_row3_col3, #T_22849_row4_col3, #T_22849_row5_col3, #T_22849_row6_col3, #T_22849_row7_col3, #T_22849_row8_col3, #T_22849_row9_col3, #T_22849_row10_col3 {\n",
              "  background-color: #a7d96b;\n",
              "  color: #000000;\n",
              "}\n",
              "#T_22849_row0_col4, #T_22849_row1_col4, #T_22849_row2_col4, #T_22849_row3_col4, #T_22849_row4_col4, #T_22849_row5_col4, #T_22849_row6_col4, #T_22849_row7_col4, #T_22849_row8_col4, #T_22849_row9_col4, #T_22849_row10_col4 {\n",
              "  background-color: #c1e57b;\n",
              "  color: #000000;\n",
              "}\n",
              "#T_22849_row0_col5, #T_22849_row1_col5, #T_22849_row2_col5, #T_22849_row3_col5, #T_22849_row4_col5, #T_22849_row5_col5, #T_22849_row6_col5, #T_22849_row7_col5, #T_22849_row8_col5, #T_22849_row9_col5, #T_22849_row10_col5 {\n",
              "  background-color: #d9ef8b;\n",
              "  color: #000000;\n",
              "}\n",
              "#T_22849_row0_col6, #T_22849_row1_col6, #T_22849_row2_col6, #T_22849_row3_col6, #T_22849_row4_col6, #T_22849_row5_col6, #T_22849_row6_col6, #T_22849_row7_col6, #T_22849_row8_col6, #T_22849_row9_col6, #T_22849_row10_col6 {\n",
              "  background-color: #e9f6a1;\n",
              "  color: #000000;\n",
              "}\n",
              "#T_22849_row0_col7, #T_22849_row1_col7, #T_22849_row2_col7, #T_22849_row3_col7, #T_22849_row4_col7, #T_22849_row5_col7, #T_22849_row6_col7, #T_22849_row7_col7, #T_22849_row8_col7, #T_22849_row9_col7, #T_22849_row10_col7 {\n",
              "  background-color: #f8fcb6;\n",
              "  color: #000000;\n",
              "}\n",
              "#T_22849_row0_col8, #T_22849_row1_col8, #T_22849_row2_col8, #T_22849_row3_col8, #T_22849_row4_col8, #T_22849_row5_col8, #T_22849_row6_col8, #T_22849_row7_col8, #T_22849_row8_col8, #T_22849_row9_col8, #T_22849_row10_col8 {\n",
              "  background-color: #fffab6;\n",
              "  color: #000000;\n",
              "}\n",
              "#T_22849_row0_col9, #T_22849_row1_col9, #T_22849_row2_col9, #T_22849_row3_col9, #T_22849_row4_col9, #T_22849_row5_col9, #T_22849_row6_col9, #T_22849_row7_col9, #T_22849_row8_col9, #T_22849_row9_col9, #T_22849_row10_col9 {\n",
              "  background-color: #a50026;\n",
              "  color: #f1f1f1;\n",
              "}\n",
              "</style>\n",
              "<table id=\"T_22849\">\n",
              "  <caption>Result - vuotuinen_kasvu_nykyarvo vs. laskentakorko_nykyarvo</caption>\n",
              "  <thead>\n",
              "    <tr>\n",
              "      <th class=\"blank level0\" >&nbsp;</th>\n",
              "      <th id=\"T_22849_level0_col0\" class=\"col_heading level0 col0\" >0.030000</th>\n",
              "      <th id=\"T_22849_level0_col1\" class=\"col_heading level0 col1\" >0.050000</th>\n",
              "      <th id=\"T_22849_level0_col2\" class=\"col_heading level0 col2\" >0.110000</th>\n",
              "      <th id=\"T_22849_level0_col3\" class=\"col_heading level0 col3\" >0.130000</th>\n",
              "      <th id=\"T_22849_level0_col4\" class=\"col_heading level0 col4\" >0.150000</th>\n",
              "      <th id=\"T_22849_level0_col5\" class=\"col_heading level0 col5\" >0.170000</th>\n",
              "      <th id=\"T_22849_level0_col6\" class=\"col_heading level0 col6\" >0.190000</th>\n",
              "      <th id=\"T_22849_level0_col7\" class=\"col_heading level0 col7\" >0.210000</th>\n",
              "      <th id=\"T_22849_level0_col8\" class=\"col_heading level0 col8\" >0.230000</th>\n",
              "      <th id=\"T_22849_level0_col9\" class=\"col_heading level0 col9\" >0.700000</th>\n",
              "    </tr>\n",
              "    <tr>\n",
              "      <th class=\"index_name level0\" >vuotuinen_kasvu_nykyarvo</th>\n",
              "      <th class=\"blank col0\" >&nbsp;</th>\n",
              "      <th class=\"blank col1\" >&nbsp;</th>\n",
              "      <th class=\"blank col2\" >&nbsp;</th>\n",
              "      <th class=\"blank col3\" >&nbsp;</th>\n",
              "      <th class=\"blank col4\" >&nbsp;</th>\n",
              "      <th class=\"blank col5\" >&nbsp;</th>\n",
              "      <th class=\"blank col6\" >&nbsp;</th>\n",
              "      <th class=\"blank col7\" >&nbsp;</th>\n",
              "      <th class=\"blank col8\" >&nbsp;</th>\n",
              "      <th class=\"blank col9\" >&nbsp;</th>\n",
              "    </tr>\n",
              "  </thead>\n",
              "  <tbody>\n",
              "    <tr>\n",
              "      <th id=\"T_22849_level0_row0\" class=\"row_heading level0 row0\" >-0.200000</th>\n",
              "      <td id=\"T_22849_row0_col0\" class=\"data row0 col0\" >27,298,290 €</td>\n",
              "      <td id=\"T_22849_row0_col1\" class=\"data row0 col1\" >26,258,227 €</td>\n",
              "      <td id=\"T_22849_row0_col2\" class=\"data row0 col2\" >23,568,045 €</td>\n",
              "      <td id=\"T_22849_row0_col3\" class=\"data row0 col3\" >22,793,274 €</td>\n",
              "      <td id=\"T_22849_row0_col4\" class=\"data row0 col4\" >22,070,516 €</td>\n",
              "      <td id=\"T_22849_row0_col5\" class=\"data row0 col5\" >21,395,249 €</td>\n",
              "      <td id=\"T_22849_row0_col6\" class=\"data row0 col6\" >20,763,422 €</td>\n",
              "      <td id=\"T_22849_row0_col7\" class=\"data row0 col7\" >20,171,399 €</td>\n",
              "      <td id=\"T_22849_row0_col8\" class=\"data row0 col8\" >19,615,913 €</td>\n",
              "      <td id=\"T_22849_row0_col9\" class=\"data row0 col9\" >12,497,735 €</td>\n",
              "    </tr>\n",
              "    <tr>\n",
              "      <th id=\"T_22849_level0_row1\" class=\"row_heading level0 row1\" >-0.150000</th>\n",
              "      <td id=\"T_22849_row1_col0\" class=\"data row1 col0\" >27,298,290 €</td>\n",
              "      <td id=\"T_22849_row1_col1\" class=\"data row1 col1\" >26,258,227 €</td>\n",
              "      <td id=\"T_22849_row1_col2\" class=\"data row1 col2\" >23,568,045 €</td>\n",
              "      <td id=\"T_22849_row1_col3\" class=\"data row1 col3\" >22,793,274 €</td>\n",
              "      <td id=\"T_22849_row1_col4\" class=\"data row1 col4\" >22,070,516 €</td>\n",
              "      <td id=\"T_22849_row1_col5\" class=\"data row1 col5\" >21,395,249 €</td>\n",
              "      <td id=\"T_22849_row1_col6\" class=\"data row1 col6\" >20,763,422 €</td>\n",
              "      <td id=\"T_22849_row1_col7\" class=\"data row1 col7\" >20,171,399 €</td>\n",
              "      <td id=\"T_22849_row1_col8\" class=\"data row1 col8\" >19,615,913 €</td>\n",
              "      <td id=\"T_22849_row1_col9\" class=\"data row1 col9\" >12,497,735 €</td>\n",
              "    </tr>\n",
              "    <tr>\n",
              "      <th id=\"T_22849_level0_row2\" class=\"row_heading level0 row2\" >-0.100000</th>\n",
              "      <td id=\"T_22849_row2_col0\" class=\"data row2 col0\" >27,298,290 €</td>\n",
              "      <td id=\"T_22849_row2_col1\" class=\"data row2 col1\" >26,258,227 €</td>\n",
              "      <td id=\"T_22849_row2_col2\" class=\"data row2 col2\" >23,568,045 €</td>\n",
              "      <td id=\"T_22849_row2_col3\" class=\"data row2 col3\" >22,793,274 €</td>\n",
              "      <td id=\"T_22849_row2_col4\" class=\"data row2 col4\" >22,070,516 €</td>\n",
              "      <td id=\"T_22849_row2_col5\" class=\"data row2 col5\" >21,395,249 €</td>\n",
              "      <td id=\"T_22849_row2_col6\" class=\"data row2 col6\" >20,763,422 €</td>\n",
              "      <td id=\"T_22849_row2_col7\" class=\"data row2 col7\" >20,171,399 €</td>\n",
              "      <td id=\"T_22849_row2_col8\" class=\"data row2 col8\" >19,615,913 €</td>\n",
              "      <td id=\"T_22849_row2_col9\" class=\"data row2 col9\" >12,497,735 €</td>\n",
              "    </tr>\n",
              "    <tr>\n",
              "      <th id=\"T_22849_level0_row3\" class=\"row_heading level0 row3\" >-0.050000</th>\n",
              "      <td id=\"T_22849_row3_col0\" class=\"data row3 col0\" >27,298,290 €</td>\n",
              "      <td id=\"T_22849_row3_col1\" class=\"data row3 col1\" >26,258,227 €</td>\n",
              "      <td id=\"T_22849_row3_col2\" class=\"data row3 col2\" >23,568,045 €</td>\n",
              "      <td id=\"T_22849_row3_col3\" class=\"data row3 col3\" >22,793,274 €</td>\n",
              "      <td id=\"T_22849_row3_col4\" class=\"data row3 col4\" >22,070,516 €</td>\n",
              "      <td id=\"T_22849_row3_col5\" class=\"data row3 col5\" >21,395,249 €</td>\n",
              "      <td id=\"T_22849_row3_col6\" class=\"data row3 col6\" >20,763,422 €</td>\n",
              "      <td id=\"T_22849_row3_col7\" class=\"data row3 col7\" >20,171,399 €</td>\n",
              "      <td id=\"T_22849_row3_col8\" class=\"data row3 col8\" >19,615,913 €</td>\n",
              "      <td id=\"T_22849_row3_col9\" class=\"data row3 col9\" >12,497,735 €</td>\n",
              "    </tr>\n",
              "    <tr>\n",
              "      <th id=\"T_22849_level0_row4\" class=\"row_heading level0 row4\" >0.000000</th>\n",
              "      <td id=\"T_22849_row4_col0\" class=\"data row4 col0\" >27,298,290 €</td>\n",
              "      <td id=\"T_22849_row4_col1\" class=\"data row4 col1\" >26,258,227 €</td>\n",
              "      <td id=\"T_22849_row4_col2\" class=\"data row4 col2\" >23,568,045 €</td>\n",
              "      <td id=\"T_22849_row4_col3\" class=\"data row4 col3\" >22,793,274 €</td>\n",
              "      <td id=\"T_22849_row4_col4\" class=\"data row4 col4\" >22,070,516 €</td>\n",
              "      <td id=\"T_22849_row4_col5\" class=\"data row4 col5\" >21,395,249 €</td>\n",
              "      <td id=\"T_22849_row4_col6\" class=\"data row4 col6\" >20,763,422 €</td>\n",
              "      <td id=\"T_22849_row4_col7\" class=\"data row4 col7\" >20,171,399 €</td>\n",
              "      <td id=\"T_22849_row4_col8\" class=\"data row4 col8\" >19,615,913 €</td>\n",
              "      <td id=\"T_22849_row4_col9\" class=\"data row4 col9\" >12,497,735 €</td>\n",
              "    </tr>\n",
              "    <tr>\n",
              "      <th id=\"T_22849_level0_row5\" class=\"row_heading level0 row5\" >0.050000</th>\n",
              "      <td id=\"T_22849_row5_col0\" class=\"data row5 col0\" >27,298,290 €</td>\n",
              "      <td id=\"T_22849_row5_col1\" class=\"data row5 col1\" >26,258,227 €</td>\n",
              "      <td id=\"T_22849_row5_col2\" class=\"data row5 col2\" >23,568,045 €</td>\n",
              "      <td id=\"T_22849_row5_col3\" class=\"data row5 col3\" >22,793,274 €</td>\n",
              "      <td id=\"T_22849_row5_col4\" class=\"data row5 col4\" >22,070,516 €</td>\n",
              "      <td id=\"T_22849_row5_col5\" class=\"data row5 col5\" >21,395,249 €</td>\n",
              "      <td id=\"T_22849_row5_col6\" class=\"data row5 col6\" >20,763,422 €</td>\n",
              "      <td id=\"T_22849_row5_col7\" class=\"data row5 col7\" >20,171,399 €</td>\n",
              "      <td id=\"T_22849_row5_col8\" class=\"data row5 col8\" >19,615,913 €</td>\n",
              "      <td id=\"T_22849_row5_col9\" class=\"data row5 col9\" >12,497,735 €</td>\n",
              "    </tr>\n",
              "    <tr>\n",
              "      <th id=\"T_22849_level0_row6\" class=\"row_heading level0 row6\" >0.100000</th>\n",
              "      <td id=\"T_22849_row6_col0\" class=\"data row6 col0\" >27,298,290 €</td>\n",
              "      <td id=\"T_22849_row6_col1\" class=\"data row6 col1\" >26,258,227 €</td>\n",
              "      <td id=\"T_22849_row6_col2\" class=\"data row6 col2\" >23,568,045 €</td>\n",
              "      <td id=\"T_22849_row6_col3\" class=\"data row6 col3\" >22,793,274 €</td>\n",
              "      <td id=\"T_22849_row6_col4\" class=\"data row6 col4\" >22,070,516 €</td>\n",
              "      <td id=\"T_22849_row6_col5\" class=\"data row6 col5\" >21,395,249 €</td>\n",
              "      <td id=\"T_22849_row6_col6\" class=\"data row6 col6\" >20,763,422 €</td>\n",
              "      <td id=\"T_22849_row6_col7\" class=\"data row6 col7\" >20,171,399 €</td>\n",
              "      <td id=\"T_22849_row6_col8\" class=\"data row6 col8\" >19,615,913 €</td>\n",
              "      <td id=\"T_22849_row6_col9\" class=\"data row6 col9\" >12,497,735 €</td>\n",
              "    </tr>\n",
              "    <tr>\n",
              "      <th id=\"T_22849_level0_row7\" class=\"row_heading level0 row7\" >0.150000</th>\n",
              "      <td id=\"T_22849_row7_col0\" class=\"data row7 col0\" >27,298,290 €</td>\n",
              "      <td id=\"T_22849_row7_col1\" class=\"data row7 col1\" >26,258,227 €</td>\n",
              "      <td id=\"T_22849_row7_col2\" class=\"data row7 col2\" >23,568,045 €</td>\n",
              "      <td id=\"T_22849_row7_col3\" class=\"data row7 col3\" >22,793,274 €</td>\n",
              "      <td id=\"T_22849_row7_col4\" class=\"data row7 col4\" >22,070,516 €</td>\n",
              "      <td id=\"T_22849_row7_col5\" class=\"data row7 col5\" >21,395,249 €</td>\n",
              "      <td id=\"T_22849_row7_col6\" class=\"data row7 col6\" >20,763,422 €</td>\n",
              "      <td id=\"T_22849_row7_col7\" class=\"data row7 col7\" >20,171,399 €</td>\n",
              "      <td id=\"T_22849_row7_col8\" class=\"data row7 col8\" >19,615,913 €</td>\n",
              "      <td id=\"T_22849_row7_col9\" class=\"data row7 col9\" >12,497,735 €</td>\n",
              "    </tr>\n",
              "    <tr>\n",
              "      <th id=\"T_22849_level0_row8\" class=\"row_heading level0 row8\" >0.200000</th>\n",
              "      <td id=\"T_22849_row8_col0\" class=\"data row8 col0\" >27,298,290 €</td>\n",
              "      <td id=\"T_22849_row8_col1\" class=\"data row8 col1\" >26,258,227 €</td>\n",
              "      <td id=\"T_22849_row8_col2\" class=\"data row8 col2\" >23,568,045 €</td>\n",
              "      <td id=\"T_22849_row8_col3\" class=\"data row8 col3\" >22,793,274 €</td>\n",
              "      <td id=\"T_22849_row8_col4\" class=\"data row8 col4\" >22,070,516 €</td>\n",
              "      <td id=\"T_22849_row8_col5\" class=\"data row8 col5\" >21,395,249 €</td>\n",
              "      <td id=\"T_22849_row8_col6\" class=\"data row8 col6\" >20,763,422 €</td>\n",
              "      <td id=\"T_22849_row8_col7\" class=\"data row8 col7\" >20,171,399 €</td>\n",
              "      <td id=\"T_22849_row8_col8\" class=\"data row8 col8\" >19,615,913 €</td>\n",
              "      <td id=\"T_22849_row8_col9\" class=\"data row8 col9\" >12,497,735 €</td>\n",
              "    </tr>\n",
              "    <tr>\n",
              "      <th id=\"T_22849_level0_row9\" class=\"row_heading level0 row9\" >0.250000</th>\n",
              "      <td id=\"T_22849_row9_col0\" class=\"data row9 col0\" >27,298,290 €</td>\n",
              "      <td id=\"T_22849_row9_col1\" class=\"data row9 col1\" >26,258,227 €</td>\n",
              "      <td id=\"T_22849_row9_col2\" class=\"data row9 col2\" >23,568,045 €</td>\n",
              "      <td id=\"T_22849_row9_col3\" class=\"data row9 col3\" >22,793,274 €</td>\n",
              "      <td id=\"T_22849_row9_col4\" class=\"data row9 col4\" >22,070,516 €</td>\n",
              "      <td id=\"T_22849_row9_col5\" class=\"data row9 col5\" >21,395,249 €</td>\n",
              "      <td id=\"T_22849_row9_col6\" class=\"data row9 col6\" >20,763,422 €</td>\n",
              "      <td id=\"T_22849_row9_col7\" class=\"data row9 col7\" >20,171,399 €</td>\n",
              "      <td id=\"T_22849_row9_col8\" class=\"data row9 col8\" >19,615,913 €</td>\n",
              "      <td id=\"T_22849_row9_col9\" class=\"data row9 col9\" >12,497,735 €</td>\n",
              "    </tr>\n",
              "    <tr>\n",
              "      <th id=\"T_22849_level0_row10\" class=\"row_heading level0 row10\" >0.300000</th>\n",
              "      <td id=\"T_22849_row10_col0\" class=\"data row10 col0\" >27,298,290 €</td>\n",
              "      <td id=\"T_22849_row10_col1\" class=\"data row10 col1\" >26,258,227 €</td>\n",
              "      <td id=\"T_22849_row10_col2\" class=\"data row10 col2\" >23,568,045 €</td>\n",
              "      <td id=\"T_22849_row10_col3\" class=\"data row10 col3\" >22,793,274 €</td>\n",
              "      <td id=\"T_22849_row10_col4\" class=\"data row10 col4\" >22,070,516 €</td>\n",
              "      <td id=\"T_22849_row10_col5\" class=\"data row10 col5\" >21,395,249 €</td>\n",
              "      <td id=\"T_22849_row10_col6\" class=\"data row10 col6\" >20,763,422 €</td>\n",
              "      <td id=\"T_22849_row10_col7\" class=\"data row10 col7\" >20,171,399 €</td>\n",
              "      <td id=\"T_22849_row10_col8\" class=\"data row10 col8\" >19,615,913 €</td>\n",
              "      <td id=\"T_22849_row10_col9\" class=\"data row10 col9\" >12,497,735 €</td>\n",
              "    </tr>\n",
              "  </tbody>\n",
              "</table>\n"
            ]
          },
          "metadata": {}
        },
        {
          "output_type": "display_data",
          "data": {
            "text/plain": [
              "<Figure size 1500x400 with 2 Axes>"
            ],
            "image/png": "[encoded data removed]"
          },
          "metadata": {}
        }
      ]
    },
    {
      "cell_type": "markdown",
      "source": [
        "## Sisäinen korkokanta"
      ],
      "metadata": {
        "id": "ER2Yv4YBrx8n"
      }
    },
    {
      "cell_type": "markdown",
      "source": [
        "Sisäisen korkokannan menetelmässä lasketaan tulevien tuottojen tai kustannussäästöjen ns. sisäinen korkokanta ja sitä verrataan vuotuiseen tavoitetuottoon."
      ],
      "metadata": {
        "id": "w8muElybr8sD"
      }
    },
    {
      "cell_type": "markdown",
      "source": [
        "**Esimerkki**. _Sisäinen korkokanta_\n",
        "\n",
        "Yrittäjä harkitsee Kallion Pesula Oy:n perustamista. Pesulan perusinvestointi on 380 000 €. Lisäksi pesulan arvellaan tuottavan vuosittain nettona siten, että ensimmäisen vuoden nettotuotto on 100 000 €, toisen ja kolmannen vuoden 120 000 € ja neljännen vuoden 100 000 €. Jäännösarvo neljän vuoden kuluttua arvioidaan 50 000 €:ksi.\n",
        "\n",
        "a) Määritä investoinnin sisäinen korkokanta.\n",
        "\n",
        "b) Päättele a-kohdan tuloksesta, onko investointi kannattava, jos se toteutetaan lainalla, jonka korkokanta on 8 %.\n",
        "\n",
        "c) Päättele a-kohdan tuloksesta, onko investointi kannattava, jos sille halutaan 12 %:n vuotuinen tuotto.\n"
      ],
      "metadata": {
        "id": "2hXnTBTPzi22"
      }
    },
    {
      "cell_type": "code",
      "source": [
        "Kallion_Pesula_investointikustannus = 380000 # euroa\n",
        "Kallion_Pesula_tuotto_1v = 100000 # euroa\n",
        "Kallion_Pesula_tuotto_2v = 120000 # euroa\n",
        "Kallion_Pesula_tuotto_3v = 120000 # euroa\n",
        "Kallion_Pesula_tuotto_4v = 100000 # euroa\n",
        "Kallion_Pesula_jaannosarvo = 50000 #uroa\n"
      ],
      "metadata": {
        "id": "ftg1xhfxYU3B"
      },
      "execution_count": 64,
      "outputs": []
    },
    {
      "cell_type": "code",
      "source": [
        "### Lasketaan sisäinen korkokanta irr-funktiolla\n",
        "\n",
        "x = np.array([-Kallion_Pesula_investointikustannus, Kallion_Pesula_tuotto_1v, Kallion_Pesula_tuotto_2v, Kallion_Pesula_tuotto_3v, Kallion_Pesula_tuotto_4v + Kallion_Pesula_jaannosarvo])\n",
        "Kallion_Pesula_sisainen_korko = npf.irr(x)\n",
        "print('Investoinnin sisäinen korkokanta on',Kallion_Pesula_sisainen_korko * 100,' %')"
      ],
      "metadata": {
        "colab": {
          "base_uri": "https://localhost:8080/"
        },
        "id": "iXLdkPjavorG",
        "outputId": "9ce133e8-8eac-4ccb-a84c-9ed550f0339b"
      },
      "execution_count": 65,
      "outputs": [
        {
          "output_type": "stream",
          "name": "stdout",
          "text": [
            "Investoinnin sisäinen korkokanta on 10.307194201714399  %\n"
          ]
        }
      ]
    },
    {
      "cell_type": "markdown",
      "source": [
        "Pyydetään käyttäjältä lainan korkokanta ja verrataan sitä sisäiseen korkoon."
      ],
      "metadata": {
        "id": "FxmSBuQR4Fn3"
      }
    },
    {
      "cell_type": "code",
      "source": [
        "print('Anna korkokanta prosenttilukuna ilman prosenttimerkkiä: ')\n",
        "lainakorko = input(prompt =' ')"
      ],
      "metadata": {
        "colab": {
          "base_uri": "https://localhost:8080/"
        },
        "id": "8Pn8OJPw3jM7",
        "outputId": "34dd9551-ec32-4728-c5a0-65338edfdd97"
      },
      "execution_count": 69,
      "outputs": [
        {
          "name": "stdout",
          "output_type": "stream",
          "text": [
            "Anna korkokanta prosenttilukuna ilman prosenttimerkkiä: \n",
            " 12.7\n"
          ]
        }
      ]
    },
    {
      "cell_type": "code",
      "source": [
        "if (float(lainakorko)/100) < Kallion_Pesula_sisainen_korko :\n",
        "  print('Jos lainan korkokanta on', lainakorko, '%, investointi on kannattava, sillä investoinnin sisäinen korkokanta on ', float_formatter(Kallion_Pesula_sisainen_korko*100), ' %')\n",
        "else : print('Jos lainan korkokanta on', lainakorko, 'investointi ei ole kannattava, sillä investoinnin sisäinen korkokanta on ', float_formatter(Kallion_Pesula_sisainen_korko*100),' %')"
      ],
      "metadata": {
        "colab": {
          "base_uri": "https://localhost:8080/"
        },
        "id": "zZJlr_pF4rYw",
        "outputId": "1fb62e9e-e460-4323-b9f9-cf87ddafe352"
      },
      "execution_count": 71,
      "outputs": [
        {
          "output_type": "stream",
          "name": "stdout",
          "text": [
            "Jos lainan korkokanta on 12.7 investointi ei ole kannattava, sillä investoinnin sisäinen korkokanta on  10.31  %\n"
          ]
        }
      ]
    },
    {
      "cell_type": "markdown",
      "source": [
        "**Esimerkki**\n",
        "\n",
        "Investoinnin B perushankintakustannus on 187 000 € ja vuotuinen nettotuotto 45 000 €. Määritetään investoinnin sisäinen korkokanta, kun jäännösarvo on\n",
        "10 000 € ja investointiaika on 6 vuotta."
      ],
      "metadata": {
        "id": "r_MKy-DlRG5W"
      }
    },
    {
      "cell_type": "markdown",
      "source": [
        "Tässä vuotuinen nettotuotto on joka vuosi sama. Ratkaistaan sisäinen korkokanta kahdella tavalla, _rate_ ja _irr_-funkioilla."
      ],
      "metadata": {
        "id": "LWyPKv2EUQUK"
      }
    },
    {
      "cell_type": "code",
      "source": [
        "InvestointiB_investointikustannus = 187000 # euroa\n",
        "InvestointiB_vuotuinen_tuotto = 45000 # euroa\n",
        "InvestointiB_jaannosarvo = 10000 #uroa\n",
        "InvestointiB_aika = 6 # vuotta\n"
      ],
      "metadata": {
        "id": "NHCumACU41t-"
      },
      "execution_count": 72,
      "outputs": []
    },
    {
      "cell_type": "markdown",
      "source": [
        "Käyttäen *irr*-funktiota, investoinnin sisäinen korkokanta selviää vastaavaan tapaan kuin edellä."
      ],
      "metadata": {
        "id": "gvx7qX1niBNm"
      }
    },
    {
      "cell_type": "code",
      "source": [
        "### Lasketaan sisäinen korkokanta irr-funktiolla\n",
        "\n",
        "x_B = np.array([-InvestointiB_investointikustannus, InvestointiB_vuotuinen_tuotto, InvestointiB_vuotuinen_tuotto, InvestointiB_vuotuinen_tuotto, InvestointiB_vuotuinen_tuotto, InvestointiB_vuotuinen_tuotto, InvestointiB_vuotuinen_tuotto + InvestointiB_jaannosarvo])\n",
        "InvestointiB_sisainen_korko = npf.irr(x_B)\n",
        "print('Investoinnin B sisäinen korkokanta on', float_formatter(InvestointiB_sisainen_korko * 100),' %')"
      ],
      "metadata": {
        "colab": {
          "base_uri": "https://localhost:8080/"
        },
        "id": "LhWX9W1E5-mZ",
        "outputId": "c486716e-f81d-460b-cd0d-7f3c3816f37a"
      },
      "execution_count": 75,
      "outputs": [
        {
          "output_type": "stream",
          "name": "stdout",
          "text": [
            "Investoinnin B sisäinen korkokanta on 12.57  %\n"
          ]
        }
      ]
    },
    {
      "cell_type": "markdown",
      "source": [
        "Koska vuotuiset tuotot ovat samansuuruiset, myös _rate_-funktiota on nyt näppärä soveltaa."
      ],
      "metadata": {
        "id": "QxLvXaPrj36x"
      }
    },
    {
      "cell_type": "code",
      "source": [
        "### Lasketaan sisäinen korkokanta rate-funktiolla\n",
        "\n",
        "InvestointiB_sisainen_korko2 = npf.rate(InvestointiB_aika, InvestointiB_vuotuinen_tuotto, -InvestointiB_investointikustannus, InvestointiB_jaannosarvo)\n",
        "\n",
        "print('Investoinnin B sisäinen korkokanta on', float_formatter(InvestointiB_sisainen_korko2 * 100),' %')"
      ],
      "metadata": {
        "colab": {
          "base_uri": "https://localhost:8080/"
        },
        "id": "pY-Fxg3ijpP2",
        "outputId": "bbf2716a-cf70-4403-861e-d0d577576457"
      },
      "execution_count": 80,
      "outputs": [
        {
          "output_type": "stream",
          "name": "stdout",
          "text": [
            "Investoinnin B sisäinen korkokanta on 12.57  %\n"
          ]
        }
      ]
    },
    {
      "cell_type": "markdown",
      "source": [
        "**Esimerkki**. *Sisäinen korkokanta ja herkkyysanalyysiä*\n",
        "\n",
        "\n",
        "Ravintolatoimintaa harjoittava yritys aikoo korottaa ravintolan tasoa tekemällä ravintolatilojen peruskorjauksen. Korjaus maksaisi erään urakkatarjouksen mukaan  750 000 €.  Ensimmäisen vuoden jälkeen nettotuoton arvellaan olevan 200 000 € ja seuraavina vuosina aina 5 % suurempi. Jäännösarvo on nolla euroa.\n",
        "\n",
        "a) Laske investoinnin sisäinen korkokanta, kun investointiaika on 6 vuotta.\n",
        "\n",
        "b) Tee herkkyysanalyysiä muuttamalla nettotuottojen muutosprosenttia ja urakkatarjouksen määrää.\n"
      ],
      "metadata": {
        "id": "Wp66Ji0LsRJZ"
      }
    },
    {
      "cell_type": "markdown",
      "source": [
        "Seurataan tässä aiempaa esimerkkiä nykyarvojen herkkyysanalyysista."
      ],
      "metadata": {
        "id": "kiNfv3DOsmr7"
      }
    },
    {
      "cell_type": "code",
      "source": [
        "### Määritellään laskentamalli\n",
        "\n",
        "investointikustannus_ravintola = 750000 # valuuttaa\n",
        "jaannosarvo_ravintola = 0 # valuuttaa\n",
        "tuoton_kasvu_aluksi = 200000 # euroa\n",
        "vuotuinen_kasvu_ravintola = 0.05 # prosenttia desimaalilukuna\n",
        "investointiaika_ravintola = 6 # vuotta"
      ],
      "metadata": {
        "id": "zi4rYNiXlYFE"
      },
      "execution_count": 85,
      "outputs": []
    },
    {
      "cell_type": "code",
      "source": [
        "### Lasketaan kassavirta\n",
        "\n",
        "tuotto_1v_ravintola = tuoton_kasvu_aluksi\n",
        "tuotto_2v_ravintola = (1+vuotuinen_kasvu_ravintola)*tuotto_1v_ravintola\n",
        "tuotto_3v_ravintola = (1+vuotuinen_kasvu_ravintola)*tuotto_2v_ravintola\n",
        "tuotto_4v_ravintola = (1+vuotuinen_kasvu_ravintola)*tuotto_3v_ravintola\n",
        "tuotto_5v_ravintola = (1+vuotuinen_kasvu_ravintola)*tuotto_4v_ravintola\n",
        "tuotto_6v_ravintola = (1+vuotuinen_kasvu_ravintola)*tuotto_5v_ravintola+jaannosarvo_ravintola\n",
        "\n",
        "### Määritellään laskentamalli\n",
        "\n",
        "def sisainen_korko_ravintola_malli(investointikustannus_ravintola, vuotuinen_kasvu_ravintola):\n",
        "  x_ravintola = np.array([-investointikustannus_ravintola, tuotto_1v_ravintola, tuotto_2v_ravintola, tuotto_3v_ravintola, tuotto_4v_ravintola, tuotto_5v_ravintola, tuotto_6v_ravintola])\n",
        "  return npf.irr(x_ravintola)"
      ],
      "metadata": {
        "id": "KT4ELOA6le4L"
      },
      "execution_count": 86,
      "outputs": []
    },
    {
      "cell_type": "code",
      "source": [
        "y_ravintola = sisainen_korko_ravintola_malli(investointikustannus_ravintola, vuotuinen_kasvu_ravintola)\n",
        "print(float_formatter(y_ravintola*100), ' %')"
      ],
      "metadata": {
        "colab": {
          "base_uri": "https://localhost:8080/"
        },
        "id": "OIs1jxiSvqcI",
        "outputId": "f1f06c91-ebf7-42ab-ed12-0cd8eb8b4eff"
      },
      "execution_count": 98,
      "outputs": [
        {
          "output_type": "stream",
          "name": "stdout",
          "text": [
            "19.22  %\n"
          ]
        }
      ]
    },
    {
      "cell_type": "code",
      "source": [
        "sensitivity_dict_ravintola = {\n",
        "    'vuotuinen_kasvu_ravintola' : [-.2, -.15, -.1, -.05, .0, .05, .1, .15, .2, .25, .3],\n",
        "    'investointikustannus_ravintola' : [500000, 550000, 600000, 650000, 700000, 750000, 800000, 850000, 900000, 950000, 1000000]\n",
        "}\n",
        "\n",
        "sa_ravintola = SensitivityAnalyzer(sensitivity_dict_ravintola, sisainen_korko_ravintola_malli)"
      ],
      "metadata": {
        "colab": {
          "base_uri": "https://localhost:8080/"
        },
        "id": "n81hWIDlwTpR",
        "outputId": "eb7aaaad-99f5-4bab-8682-805400fbf468"
      },
      "execution_count": 88,
      "outputs": [
        {
          "output_type": "stream",
          "name": "stderr",
          "text": [
            "100%|██████████| 121/121 [00:00<00:00, 903.01it/s]\n"
          ]
        }
      ]
    },
    {
      "cell_type": "code",
      "source": [
        "sa_ravintola.df"
      ],
      "metadata": {
        "colab": {
          "base_uri": "https://localhost:8080/",
          "height": 424
        },
        "id": "G9xsO1t_x4OH",
        "outputId": "10a2e4db-36a3-4066-8732-7a06fcbf63ec"
      },
      "execution_count": 89,
      "outputs": [
        {
          "output_type": "execute_result",
          "data": {
            "text/plain": [
              "     vuotuinen_kasvu_ravintola  investointikustannus_ravintola    Result\n",
              "0                         -0.2                          500000  0.368333\n",
              "1                         -0.2                          550000  0.322594\n",
              "2                         -0.2                          600000  0.283343\n",
              "3                         -0.2                          650000  0.249168\n",
              "4                         -0.2                          700000   0.21905\n",
              "..                         ...                             ...       ...\n",
              "116                        0.3                          800000  0.168146\n",
              "117                        0.3                          850000  0.146346\n",
              "118                        0.3                          900000  0.126485\n",
              "119                        0.3                          950000  0.108283\n",
              "120                        0.3                         1000000  0.091517\n",
              "\n",
              "[121 rows x 3 columns]"
            ],
            "text/html": [
              "\n",
              "  <div id=\"df-cb6670ba-9643-4dd0-890c-cb391b755025\" class=\"colab-df-container\">\n",
              "    <div>\n",
              "<style scoped>\n",
              "    .dataframe tbody tr th:only-of-type {\n",
              "        vertical-align: middle;\n",
              "    }\n",
              "\n",
              "    .dataframe tbody tr th {\n",
              "        vertical-align: top;\n",
              "    }\n",
              "\n",
              "    .dataframe thead th {\n",
              "        text-align: right;\n",
              "    }\n",
              "</style>\n",
              "<table border=\"1\" class=\"dataframe\">\n",
              "  <thead>\n",
              "    <tr style=\"text-align: right;\">\n",
              "      <th></th>\n",
              "      <th>vuotuinen_kasvu_ravintola</th>\n",
              "      <th>investointikustannus_ravintola</th>\n",
              "      <th>Result</th>\n",
              "    </tr>\n",
              "  </thead>\n",
              "  <tbody>\n",
              "    <tr>\n",
              "      <th>0</th>\n",
              "      <td>-0.2</td>\n",
              "      <td>500000</td>\n",
              "      <td>0.368333</td>\n",
              "    </tr>\n",
              "    <tr>\n",
              "      <th>1</th>\n",
              "      <td>-0.2</td>\n",
              "      <td>550000</td>\n",
              "      <td>0.322594</td>\n",
              "    </tr>\n",
              "    <tr>\n",
              "      <th>2</th>\n",
              "      <td>-0.2</td>\n",
              "      <td>600000</td>\n",
              "      <td>0.283343</td>\n",
              "    </tr>\n",
              "    <tr>\n",
              "      <th>3</th>\n",
              "      <td>-0.2</td>\n",
              "      <td>650000</td>\n",
              "      <td>0.249168</td>\n",
              "    </tr>\n",
              "    <tr>\n",
              "      <th>4</th>\n",
              "      <td>-0.2</td>\n",
              "      <td>700000</td>\n",
              "      <td>0.21905</td>\n",
              "    </tr>\n",
              "    <tr>\n",
              "      <th>...</th>\n",
              "      <td>...</td>\n",
              "      <td>...</td>\n",
              "      <td>...</td>\n",
              "    </tr>\n",
              "    <tr>\n",
              "      <th>116</th>\n",
              "      <td>0.3</td>\n",
              "      <td>800000</td>\n",
              "      <td>0.168146</td>\n",
              "    </tr>\n",
              "    <tr>\n",
              "      <th>117</th>\n",
              "      <td>0.3</td>\n",
              "      <td>850000</td>\n",
              "      <td>0.146346</td>\n",
              "    </tr>\n",
              "    <tr>\n",
              "      <th>118</th>\n",
              "      <td>0.3</td>\n",
              "      <td>900000</td>\n",
              "      <td>0.126485</td>\n",
              "    </tr>\n",
              "    <tr>\n",
              "      <th>119</th>\n",
              "      <td>0.3</td>\n",
              "      <td>950000</td>\n",
              "      <td>0.108283</td>\n",
              "    </tr>\n",
              "    <tr>\n",
              "      <th>120</th>\n",
              "      <td>0.3</td>\n",
              "      <td>1000000</td>\n",
              "      <td>0.091517</td>\n",
              "    </tr>\n",
              "  </tbody>\n",
              "</table>\n",
              "<p>121 rows × 3 columns</p>\n",
              "</div>\n",
              "    <div class=\"colab-df-buttons\">\n",
              "\n",
              "  <div class=\"colab-df-container\">\n",
              "    <button class=\"colab-df-convert\" onclick=\"convertToInteractive('df-cb6670ba-9643-4dd0-890c-cb391b755025')\"\n",
              "            title=\"Convert this dataframe to an interactive table.\"\n",
              "            style=\"display:none;\">\n",
              "\n",
              "  <svg xmlns=\"http://www.w3.org/2000/svg\" height=\"24px\" viewBox=\"0 -960 960 960\">\n",
              "    <path d=\"M120-120v-720h720v720H120Zm60-500h600v-160H180v160Zm220 220h160v-160H400v160Zm0 220h160v-160H400v160ZM180-400h160v-160H180v160Zm440 0h160v-160H620v160ZM180-180h160v-160H180v160Zm440 0h160v-160H620v160Z\"/>\n",
              "  </svg>\n",
              "    </button>\n",
              "\n",
              "  <style>\n",
              "    .colab-df-container {\n",
              "      display:flex;\n",
              "      gap: 12px;\n",
              "    }\n",
              "\n",
              "    .colab-df-convert {\n",
              "      background-color: #E8F0FE;\n",
              "      border: none;\n",
              "      border-radius: 50%;\n",
              "      cursor: pointer;\n",
              "      display: none;\n",
              "      fill: #1967D2;\n",
              "      height: 32px;\n",
              "      padding: 0 0 0 0;\n",
              "      width: 32px;\n",
              "    }\n",
              "\n",
              "    .colab-df-convert:hover {\n",
              "      background-color: #E2EBFA;\n",
              "      box-shadow: 0px 1px 2px rgba(60, 64, 67, 0.3), 0px 1px 3px 1px rgba(60, 64, 67, 0.15);\n",
              "      fill: #174EA6;\n",
              "    }\n",
              "\n",
              "    .colab-df-buttons div {\n",
              "      margin-bottom: 4px;\n",
              "    }\n",
              "\n",
              "    [theme=dark] .colab-df-convert {\n",
              "      background-color: #3B4455;\n",
              "      fill: #D2E3FC;\n",
              "    }\n",
              "\n",
              "    [theme=dark] .colab-df-convert:hover {\n",
              "      background-color: #434B5C;\n",
              "      box-shadow: 0px 1px 3px 1px rgba(0, 0, 0, 0.15);\n",
              "      filter: drop-shadow(0px 1px 2px rgba(0, 0, 0, 0.3));\n",
              "      fill: #FFFFFF;\n",
              "    }\n",
              "  </style>\n",
              "\n",
              "    <script>\n",
              "      const buttonEl =\n",
              "        document.querySelector('#df-cb6670ba-9643-4dd0-890c-cb391b755025 button.colab-df-convert');\n",
              "      buttonEl.style.display =\n",
              "        google.colab.kernel.accessAllowed ? 'block' : 'none';\n",
              "\n",
              "      async function convertToInteractive(key) {\n",
              "        const element = document.querySelector('#df-cb6670ba-9643-4dd0-890c-cb391b755025');\n",
              "        const dataTable =\n",
              "          await google.colab.kernel.invokeFunction('convertToInteractive',\n",
              "                                                    [key], {});\n",
              "        if (!dataTable) return;\n",
              "\n",
              "        const docLinkHtml = 'Like what you see? Visit the ' +\n",
              "          '<a target=\"_blank\" href=https://colab.research.google.com/notebooks/data_table.ipynb>data table notebook</a>'\n",
              "          + ' to learn more about interactive tables.';\n",
              "        element.innerHTML = '';\n",
              "        dataTable['output_type'] = 'display_data';\n",
              "        await google.colab.output.renderOutput(dataTable, element);\n",
              "        const docLink = document.createElement('div');\n",
              "        docLink.innerHTML = docLinkHtml;\n",
              "        element.appendChild(docLink);\n",
              "      }\n",
              "    </script>\n",
              "  </div>\n",
              "\n",
              "\n",
              "<div id=\"df-158a3081-3fd1-44f4-9317-29efdac6c547\">\n",
              "  <button class=\"colab-df-quickchart\" onclick=\"quickchart('df-158a3081-3fd1-44f4-9317-29efdac6c547')\"\n",
              "            title=\"Suggest charts\"\n",
              "            style=\"display:none;\">\n",
              "\n",
              "<svg xmlns=\"http://www.w3.org/2000/svg\" height=\"24px\"viewBox=\"0 0 24 24\"\n",
              "     width=\"24px\">\n",
              "    <g>\n",
              "        <path d=\"M19 3H5c-1.1 0-2 .9-2 2v14c0 1.1.9 2 2 2h14c1.1 0 2-.9 2-2V5c0-1.1-.9-2-2-2zM9 17H7v-7h2v7zm4 0h-2V7h2v10zm4 0h-2v-4h2v4z\"/>\n",
              "    </g>\n",
              "</svg>\n",
              "  </button>\n",
              "\n",
              "<style>\n",
              "  .colab-df-quickchart {\n",
              "      --bg-color: #E8F0FE;\n",
              "      --fill-color: #1967D2;\n",
              "      --hover-bg-color: #E2EBFA;\n",
              "      --hover-fill-color: #174EA6;\n",
              "      --disabled-fill-color: #AAA;\n",
              "      --disabled-bg-color: #DDD;\n",
              "  }\n",
              "\n",
              "  [theme=dark] .colab-df-quickchart {\n",
              "      --bg-color: #3B4455;\n",
              "      --fill-color: #D2E3FC;\n",
              "      --hover-bg-color: #434B5C;\n",
              "      --hover-fill-color: #FFFFFF;\n",
              "      --disabled-bg-color: #3B4455;\n",
              "      --disabled-fill-color: #666;\n",
              "  }\n",
              "\n",
              "  .colab-df-quickchart {\n",
              "    background-color: var(--bg-color);\n",
              "    border: none;\n",
              "    border-radius: 50%;\n",
              "    cursor: pointer;\n",
              "    display: none;\n",
              "    fill: var(--fill-color);\n",
              "    height: 32px;\n",
              "    padding: 0;\n",
              "    width: 32px;\n",
              "  }\n",
              "\n",
              "  .colab-df-quickchart:hover {\n",
              "    background-color: var(--hover-bg-color);\n",
              "    box-shadow: 0 1px 2px rgba(60, 64, 67, 0.3), 0 1px 3px 1px rgba(60, 64, 67, 0.15);\n",
              "    fill: var(--button-hover-fill-color);\n",
              "  }\n",
              "\n",
              "  .colab-df-quickchart-complete:disabled,\n",
              "  .colab-df-quickchart-complete:disabled:hover {\n",
              "    background-color: var(--disabled-bg-color);\n",
              "    fill: var(--disabled-fill-color);\n",
              "    box-shadow: none;\n",
              "  }\n",
              "\n",
              "  .colab-df-spinner {\n",
              "    border: 2px solid var(--fill-color);\n",
              "    border-color: transparent;\n",
              "    border-bottom-color: var(--fill-color);\n",
              "    animation:\n",
              "      spin 1s steps(1) infinite;\n",
              "  }\n",
              "\n",
              "  @keyframes spin {\n",
              "    0% {\n",
              "      border-color: transparent;\n",
              "      border-bottom-color: var(--fill-color);\n",
              "      border-left-color: var(--fill-color);\n",
              "    }\n",
              "    20% {\n",
              "      border-color: transparent;\n",
              "      border-left-color: var(--fill-color);\n",
              "      border-top-color: var(--fill-color);\n",
              "    }\n",
              "    30% {\n",
              "      border-color: transparent;\n",
              "      border-left-color: var(--fill-color);\n",
              "      border-top-color: var(--fill-color);\n",
              "      border-right-color: var(--fill-color);\n",
              "    }\n",
              "    40% {\n",
              "      border-color: transparent;\n",
              "      border-right-color: var(--fill-color);\n",
              "      border-top-color: var(--fill-color);\n",
              "    }\n",
              "    60% {\n",
              "      border-color: transparent;\n",
              "      border-right-color: var(--fill-color);\n",
              "    }\n",
              "    80% {\n",
              "      border-color: transparent;\n",
              "      border-right-color: var(--fill-color);\n",
              "      border-bottom-color: var(--fill-color);\n",
              "    }\n",
              "    90% {\n",
              "      border-color: transparent;\n",
              "      border-bottom-color: var(--fill-color);\n",
              "    }\n",
              "  }\n",
              "</style>\n",
              "\n",
              "  <script>\n",
              "    async function quickchart(key) {\n",
              "      const quickchartButtonEl =\n",
              "        document.querySelector('#' + key + ' button');\n",
              "      quickchartButtonEl.disabled = true;  // To prevent multiple clicks.\n",
              "      quickchartButtonEl.classList.add('colab-df-spinner');\n",
              "      try {\n",
              "        const charts = await google.colab.kernel.invokeFunction(\n",
              "            'suggestCharts', [key], {});\n",
              "      } catch (error) {\n",
              "        console.error('Error during call to suggestCharts:', error);\n",
              "      }\n",
              "      quickchartButtonEl.classList.remove('colab-df-spinner');\n",
              "      quickchartButtonEl.classList.add('colab-df-quickchart-complete');\n",
              "    }\n",
              "    (() => {\n",
              "      let quickchartButtonEl =\n",
              "        document.querySelector('#df-158a3081-3fd1-44f4-9317-29efdac6c547 button');\n",
              "      quickchartButtonEl.style.display =\n",
              "        google.colab.kernel.accessAllowed ? 'block' : 'none';\n",
              "    })();\n",
              "  </script>\n",
              "</div>\n",
              "    </div>\n",
              "  </div>\n"
            ]
          },
          "metadata": {},
          "execution_count": 89
        }
      ]
    },
    {
      "cell_type": "code",
      "source": [
        "plot = sa_ravintola.plot()\n",
        "\n",
        "styled = sa_ravintola.styled_dfs(num_fmt='{:.4f}')"
      ],
      "metadata": {
        "colab": {
          "base_uri": "https://localhost:8080/",
          "height": 751
        },
        "id": "rMNO9OVpyBs9",
        "outputId": "11baf428-5566-4efe-8776-50fbad504c47"
      },
      "execution_count": 94,
      "outputs": [
        {
          "output_type": "display_data",
          "data": {
            "text/plain": [
              "<IPython.core.display.HTML object>"
            ],
            "text/html": [
              "<h2>Result by vuotuinen_kasvu_ravintola vs. investointikustannus_ravintola</h2>"
            ]
          },
          "metadata": {}
        },
        {
          "output_type": "display_data",
          "data": {
            "text/plain": [
              "<IPython.core.display.HTML object>"
            ],
            "text/html": [
              "<style type=\"text/css\">\n",
              "#T_c50d0_row0_col0, #T_c50d0_row1_col0, #T_c50d0_row2_col0, #T_c50d0_row3_col0, #T_c50d0_row4_col0, #T_c50d0_row5_col0, #T_c50d0_row6_col0, #T_c50d0_row7_col0, #T_c50d0_row8_col0, #T_c50d0_row9_col0, #T_c50d0_row10_col0 {\n",
              "  background-color: #006837;\n",
              "  color: #f1f1f1;\n",
              "}\n",
              "#T_c50d0_row0_col1, #T_c50d0_row1_col1, #T_c50d0_row2_col1, #T_c50d0_row3_col1, #T_c50d0_row4_col1, #T_c50d0_row5_col1, #T_c50d0_row6_col1, #T_c50d0_row7_col1, #T_c50d0_row8_col1, #T_c50d0_row9_col1, #T_c50d0_row10_col1 {\n",
              "  background-color: #4bb05c;\n",
              "  color: #f1f1f1;\n",
              "}\n",
              "#T_c50d0_row0_col2, #T_c50d0_row1_col2, #T_c50d0_row2_col2, #T_c50d0_row3_col2, #T_c50d0_row4_col2, #T_c50d0_row5_col2, #T_c50d0_row6_col2, #T_c50d0_row7_col2, #T_c50d0_row8_col2, #T_c50d0_row9_col2, #T_c50d0_row10_col2 {\n",
              "  background-color: #a9da6c;\n",
              "  color: #000000;\n",
              "}\n",
              "#T_c50d0_row0_col3, #T_c50d0_row1_col3, #T_c50d0_row2_col3, #T_c50d0_row3_col3, #T_c50d0_row4_col3, #T_c50d0_row5_col3, #T_c50d0_row6_col3, #T_c50d0_row7_col3, #T_c50d0_row8_col3, #T_c50d0_row9_col3, #T_c50d0_row10_col3 {\n",
              "  background-color: #e5f49b;\n",
              "  color: #000000;\n",
              "}\n",
              "#T_c50d0_row0_col4, #T_c50d0_row1_col4, #T_c50d0_row2_col4, #T_c50d0_row3_col4, #T_c50d0_row4_col4, #T_c50d0_row5_col4, #T_c50d0_row6_col4, #T_c50d0_row7_col4, #T_c50d0_row8_col4, #T_c50d0_row9_col4, #T_c50d0_row10_col4 {\n",
              "  background-color: #fff2aa;\n",
              "  color: #000000;\n",
              "}\n",
              "#T_c50d0_row0_col5, #T_c50d0_row1_col5, #T_c50d0_row2_col5, #T_c50d0_row3_col5, #T_c50d0_row4_col5, #T_c50d0_row5_col5, #T_c50d0_row6_col5, #T_c50d0_row7_col5, #T_c50d0_row8_col5, #T_c50d0_row9_col5, #T_c50d0_row10_col5 {\n",
              "  background-color: #fece7c;\n",
              "  color: #000000;\n",
              "}\n",
              "#T_c50d0_row0_col6, #T_c50d0_row1_col6, #T_c50d0_row2_col6, #T_c50d0_row3_col6, #T_c50d0_row4_col6, #T_c50d0_row5_col6, #T_c50d0_row6_col6, #T_c50d0_row7_col6, #T_c50d0_row8_col6, #T_c50d0_row9_col6, #T_c50d0_row10_col6 {\n",
              "  background-color: #fb9d59;\n",
              "  color: #000000;\n",
              "}\n",
              "#T_c50d0_row0_col7, #T_c50d0_row1_col7, #T_c50d0_row2_col7, #T_c50d0_row3_col7, #T_c50d0_row4_col7, #T_c50d0_row5_col7, #T_c50d0_row6_col7, #T_c50d0_row7_col7, #T_c50d0_row8_col7, #T_c50d0_row9_col7, #T_c50d0_row10_col7 {\n",
              "  background-color: #f36b42;\n",
              "  color: #f1f1f1;\n",
              "}\n",
              "#T_c50d0_row0_col8, #T_c50d0_row1_col8, #T_c50d0_row2_col8, #T_c50d0_row3_col8, #T_c50d0_row4_col8, #T_c50d0_row5_col8, #T_c50d0_row6_col8, #T_c50d0_row7_col8, #T_c50d0_row8_col8, #T_c50d0_row9_col8, #T_c50d0_row10_col8 {\n",
              "  background-color: #de402e;\n",
              "  color: #f1f1f1;\n",
              "}\n",
              "#T_c50d0_row0_col9, #T_c50d0_row1_col9, #T_c50d0_row2_col9, #T_c50d0_row3_col9, #T_c50d0_row4_col9, #T_c50d0_row5_col9, #T_c50d0_row6_col9, #T_c50d0_row7_col9, #T_c50d0_row8_col9, #T_c50d0_row9_col9, #T_c50d0_row10_col9 {\n",
              "  background-color: #c21c27;\n",
              "  color: #f1f1f1;\n",
              "}\n",
              "#T_c50d0_row0_col10, #T_c50d0_row1_col10, #T_c50d0_row2_col10, #T_c50d0_row3_col10, #T_c50d0_row4_col10, #T_c50d0_row5_col10, #T_c50d0_row6_col10, #T_c50d0_row7_col10, #T_c50d0_row8_col10, #T_c50d0_row9_col10, #T_c50d0_row10_col10 {\n",
              "  background-color: #a50026;\n",
              "  color: #f1f1f1;\n",
              "}\n",
              "</style>\n",
              "<table id=\"T_c50d0\">\n",
              "  <caption>Result - vuotuinen_kasvu_ravintola vs. investointikustannus_ravintola</caption>\n",
              "  <thead>\n",
              "    <tr>\n",
              "      <th class=\"blank level0\" >&nbsp;</th>\n",
              "      <th id=\"T_c50d0_level0_col0\" class=\"col_heading level0 col0\" >500000</th>\n",
              "      <th id=\"T_c50d0_level0_col1\" class=\"col_heading level0 col1\" >550000</th>\n",
              "      <th id=\"T_c50d0_level0_col2\" class=\"col_heading level0 col2\" >600000</th>\n",
              "      <th id=\"T_c50d0_level0_col3\" class=\"col_heading level0 col3\" >650000</th>\n",
              "      <th id=\"T_c50d0_level0_col4\" class=\"col_heading level0 col4\" >700000</th>\n",
              "      <th id=\"T_c50d0_level0_col5\" class=\"col_heading level0 col5\" >750000</th>\n",
              "      <th id=\"T_c50d0_level0_col6\" class=\"col_heading level0 col6\" >800000</th>\n",
              "      <th id=\"T_c50d0_level0_col7\" class=\"col_heading level0 col7\" >850000</th>\n",
              "      <th id=\"T_c50d0_level0_col8\" class=\"col_heading level0 col8\" >900000</th>\n",
              "      <th id=\"T_c50d0_level0_col9\" class=\"col_heading level0 col9\" >950000</th>\n",
              "      <th id=\"T_c50d0_level0_col10\" class=\"col_heading level0 col10\" >1000000</th>\n",
              "    </tr>\n",
              "    <tr>\n",
              "      <th class=\"index_name level0\" >vuotuinen_kasvu_ravintola</th>\n",
              "      <th class=\"blank col0\" >&nbsp;</th>\n",
              "      <th class=\"blank col1\" >&nbsp;</th>\n",
              "      <th class=\"blank col2\" >&nbsp;</th>\n",
              "      <th class=\"blank col3\" >&nbsp;</th>\n",
              "      <th class=\"blank col4\" >&nbsp;</th>\n",
              "      <th class=\"blank col5\" >&nbsp;</th>\n",
              "      <th class=\"blank col6\" >&nbsp;</th>\n",
              "      <th class=\"blank col7\" >&nbsp;</th>\n",
              "      <th class=\"blank col8\" >&nbsp;</th>\n",
              "      <th class=\"blank col9\" >&nbsp;</th>\n",
              "      <th class=\"blank col10\" >&nbsp;</th>\n",
              "    </tr>\n",
              "  </thead>\n",
              "  <tbody>\n",
              "    <tr>\n",
              "      <th id=\"T_c50d0_level0_row0\" class=\"row_heading level0 row0\" >-0.200000</th>\n",
              "      <td id=\"T_c50d0_row0_col0\" class=\"data row0 col0\" >0.3683</td>\n",
              "      <td id=\"T_c50d0_row0_col1\" class=\"data row0 col1\" >0.3226</td>\n",
              "      <td id=\"T_c50d0_row0_col2\" class=\"data row0 col2\" >0.2833</td>\n",
              "      <td id=\"T_c50d0_row0_col3\" class=\"data row0 col3\" >0.2492</td>\n",
              "      <td id=\"T_c50d0_row0_col4\" class=\"data row0 col4\" >0.2190</td>\n",
              "      <td id=\"T_c50d0_row0_col5\" class=\"data row0 col5\" >0.1922</td>\n",
              "      <td id=\"T_c50d0_row0_col6\" class=\"data row0 col6\" >0.1681</td>\n",
              "      <td id=\"T_c50d0_row0_col7\" class=\"data row0 col7\" >0.1463</td>\n",
              "      <td id=\"T_c50d0_row0_col8\" class=\"data row0 col8\" >0.1265</td>\n",
              "      <td id=\"T_c50d0_row0_col9\" class=\"data row0 col9\" >0.1083</td>\n",
              "      <td id=\"T_c50d0_row0_col10\" class=\"data row0 col10\" >0.0915</td>\n",
              "    </tr>\n",
              "    <tr>\n",
              "      <th id=\"T_c50d0_level0_row1\" class=\"row_heading level0 row1\" >-0.150000</th>\n",
              "      <td id=\"T_c50d0_row1_col0\" class=\"data row1 col0\" >0.3683</td>\n",
              "      <td id=\"T_c50d0_row1_col1\" class=\"data row1 col1\" >0.3226</td>\n",
              "      <td id=\"T_c50d0_row1_col2\" class=\"data row1 col2\" >0.2833</td>\n",
              "      <td id=\"T_c50d0_row1_col3\" class=\"data row1 col3\" >0.2492</td>\n",
              "      <td id=\"T_c50d0_row1_col4\" class=\"data row1 col4\" >0.2190</td>\n",
              "      <td id=\"T_c50d0_row1_col5\" class=\"data row1 col5\" >0.1922</td>\n",
              "      <td id=\"T_c50d0_row1_col6\" class=\"data row1 col6\" >0.1681</td>\n",
              "      <td id=\"T_c50d0_row1_col7\" class=\"data row1 col7\" >0.1463</td>\n",
              "      <td id=\"T_c50d0_row1_col8\" class=\"data row1 col8\" >0.1265</td>\n",
              "      <td id=\"T_c50d0_row1_col9\" class=\"data row1 col9\" >0.1083</td>\n",
              "      <td id=\"T_c50d0_row1_col10\" class=\"data row1 col10\" >0.0915</td>\n",
              "    </tr>\n",
              "    <tr>\n",
              "      <th id=\"T_c50d0_level0_row2\" class=\"row_heading level0 row2\" >-0.100000</th>\n",
              "      <td id=\"T_c50d0_row2_col0\" class=\"data row2 col0\" >0.3683</td>\n",
              "      <td id=\"T_c50d0_row2_col1\" class=\"data row2 col1\" >0.3226</td>\n",
              "      <td id=\"T_c50d0_row2_col2\" class=\"data row2 col2\" >0.2833</td>\n",
              "      <td id=\"T_c50d0_row2_col3\" class=\"data row2 col3\" >0.2492</td>\n",
              "      <td id=\"T_c50d0_row2_col4\" class=\"data row2 col4\" >0.2190</td>\n",
              "      <td id=\"T_c50d0_row2_col5\" class=\"data row2 col5\" >0.1922</td>\n",
              "      <td id=\"T_c50d0_row2_col6\" class=\"data row2 col6\" >0.1681</td>\n",
              "      <td id=\"T_c50d0_row2_col7\" class=\"data row2 col7\" >0.1463</td>\n",
              "      <td id=\"T_c50d0_row2_col8\" class=\"data row2 col8\" >0.1265</td>\n",
              "      <td id=\"T_c50d0_row2_col9\" class=\"data row2 col9\" >0.1083</td>\n",
              "      <td id=\"T_c50d0_row2_col10\" class=\"data row2 col10\" >0.0915</td>\n",
              "    </tr>\n",
              "    <tr>\n",
              "      <th id=\"T_c50d0_level0_row3\" class=\"row_heading level0 row3\" >-0.050000</th>\n",
              "      <td id=\"T_c50d0_row3_col0\" class=\"data row3 col0\" >0.3683</td>\n",
              "      <td id=\"T_c50d0_row3_col1\" class=\"data row3 col1\" >0.3226</td>\n",
              "      <td id=\"T_c50d0_row3_col2\" class=\"data row3 col2\" >0.2833</td>\n",
              "      <td id=\"T_c50d0_row3_col3\" class=\"data row3 col3\" >0.2492</td>\n",
              "      <td id=\"T_c50d0_row3_col4\" class=\"data row3 col4\" >0.2190</td>\n",
              "      <td id=\"T_c50d0_row3_col5\" class=\"data row3 col5\" >0.1922</td>\n",
              "      <td id=\"T_c50d0_row3_col6\" class=\"data row3 col6\" >0.1681</td>\n",
              "      <td id=\"T_c50d0_row3_col7\" class=\"data row3 col7\" >0.1463</td>\n",
              "      <td id=\"T_c50d0_row3_col8\" class=\"data row3 col8\" >0.1265</td>\n",
              "      <td id=\"T_c50d0_row3_col9\" class=\"data row3 col9\" >0.1083</td>\n",
              "      <td id=\"T_c50d0_row3_col10\" class=\"data row3 col10\" >0.0915</td>\n",
              "    </tr>\n",
              "    <tr>\n",
              "      <th id=\"T_c50d0_level0_row4\" class=\"row_heading level0 row4\" >0.000000</th>\n",
              "      <td id=\"T_c50d0_row4_col0\" class=\"data row4 col0\" >0.3683</td>\n",
              "      <td id=\"T_c50d0_row4_col1\" class=\"data row4 col1\" >0.3226</td>\n",
              "      <td id=\"T_c50d0_row4_col2\" class=\"data row4 col2\" >0.2833</td>\n",
              "      <td id=\"T_c50d0_row4_col3\" class=\"data row4 col3\" >0.2492</td>\n",
              "      <td id=\"T_c50d0_row4_col4\" class=\"data row4 col4\" >0.2190</td>\n",
              "      <td id=\"T_c50d0_row4_col5\" class=\"data row4 col5\" >0.1922</td>\n",
              "      <td id=\"T_c50d0_row4_col6\" class=\"data row4 col6\" >0.1681</td>\n",
              "      <td id=\"T_c50d0_row4_col7\" class=\"data row4 col7\" >0.1463</td>\n",
              "      <td id=\"T_c50d0_row4_col8\" class=\"data row4 col8\" >0.1265</td>\n",
              "      <td id=\"T_c50d0_row4_col9\" class=\"data row4 col9\" >0.1083</td>\n",
              "      <td id=\"T_c50d0_row4_col10\" class=\"data row4 col10\" >0.0915</td>\n",
              "    </tr>\n",
              "    <tr>\n",
              "      <th id=\"T_c50d0_level0_row5\" class=\"row_heading level0 row5\" >0.050000</th>\n",
              "      <td id=\"T_c50d0_row5_col0\" class=\"data row5 col0\" >0.3683</td>\n",
              "      <td id=\"T_c50d0_row5_col1\" class=\"data row5 col1\" >0.3226</td>\n",
              "      <td id=\"T_c50d0_row5_col2\" class=\"data row5 col2\" >0.2833</td>\n",
              "      <td id=\"T_c50d0_row5_col3\" class=\"data row5 col3\" >0.2492</td>\n",
              "      <td id=\"T_c50d0_row5_col4\" class=\"data row5 col4\" >0.2190</td>\n",
              "      <td id=\"T_c50d0_row5_col5\" class=\"data row5 col5\" >0.1922</td>\n",
              "      <td id=\"T_c50d0_row5_col6\" class=\"data row5 col6\" >0.1681</td>\n",
              "      <td id=\"T_c50d0_row5_col7\" class=\"data row5 col7\" >0.1463</td>\n",
              "      <td id=\"T_c50d0_row5_col8\" class=\"data row5 col8\" >0.1265</td>\n",
              "      <td id=\"T_c50d0_row5_col9\" class=\"data row5 col9\" >0.1083</td>\n",
              "      <td id=\"T_c50d0_row5_col10\" class=\"data row5 col10\" >0.0915</td>\n",
              "    </tr>\n",
              "    <tr>\n",
              "      <th id=\"T_c50d0_level0_row6\" class=\"row_heading level0 row6\" >0.100000</th>\n",
              "      <td id=\"T_c50d0_row6_col0\" class=\"data row6 col0\" >0.3683</td>\n",
              "      <td id=\"T_c50d0_row6_col1\" class=\"data row6 col1\" >0.3226</td>\n",
              "      <td id=\"T_c50d0_row6_col2\" class=\"data row6 col2\" >0.2833</td>\n",
              "      <td id=\"T_c50d0_row6_col3\" class=\"data row6 col3\" >0.2492</td>\n",
              "      <td id=\"T_c50d0_row6_col4\" class=\"data row6 col4\" >0.2190</td>\n",
              "      <td id=\"T_c50d0_row6_col5\" class=\"data row6 col5\" >0.1922</td>\n",
              "      <td id=\"T_c50d0_row6_col6\" class=\"data row6 col6\" >0.1681</td>\n",
              "      <td id=\"T_c50d0_row6_col7\" class=\"data row6 col7\" >0.1463</td>\n",
              "      <td id=\"T_c50d0_row6_col8\" class=\"data row6 col8\" >0.1265</td>\n",
              "      <td id=\"T_c50d0_row6_col9\" class=\"data row6 col9\" >0.1083</td>\n",
              "      <td id=\"T_c50d0_row6_col10\" class=\"data row6 col10\" >0.0915</td>\n",
              "    </tr>\n",
              "    <tr>\n",
              "      <th id=\"T_c50d0_level0_row7\" class=\"row_heading level0 row7\" >0.150000</th>\n",
              "      <td id=\"T_c50d0_row7_col0\" class=\"data row7 col0\" >0.3683</td>\n",
              "      <td id=\"T_c50d0_row7_col1\" class=\"data row7 col1\" >0.3226</td>\n",
              "      <td id=\"T_c50d0_row7_col2\" class=\"data row7 col2\" >0.2833</td>\n",
              "      <td id=\"T_c50d0_row7_col3\" class=\"data row7 col3\" >0.2492</td>\n",
              "      <td id=\"T_c50d0_row7_col4\" class=\"data row7 col4\" >0.2190</td>\n",
              "      <td id=\"T_c50d0_row7_col5\" class=\"data row7 col5\" >0.1922</td>\n",
              "      <td id=\"T_c50d0_row7_col6\" class=\"data row7 col6\" >0.1681</td>\n",
              "      <td id=\"T_c50d0_row7_col7\" class=\"data row7 col7\" >0.1463</td>\n",
              "      <td id=\"T_c50d0_row7_col8\" class=\"data row7 col8\" >0.1265</td>\n",
              "      <td id=\"T_c50d0_row7_col9\" class=\"data row7 col9\" >0.1083</td>\n",
              "      <td id=\"T_c50d0_row7_col10\" class=\"data row7 col10\" >0.0915</td>\n",
              "    </tr>\n",
              "    <tr>\n",
              "      <th id=\"T_c50d0_level0_row8\" class=\"row_heading level0 row8\" >0.200000</th>\n",
              "      <td id=\"T_c50d0_row8_col0\" class=\"data row8 col0\" >0.3683</td>\n",
              "      <td id=\"T_c50d0_row8_col1\" class=\"data row8 col1\" >0.3226</td>\n",
              "      <td id=\"T_c50d0_row8_col2\" class=\"data row8 col2\" >0.2833</td>\n",
              "      <td id=\"T_c50d0_row8_col3\" class=\"data row8 col3\" >0.2492</td>\n",
              "      <td id=\"T_c50d0_row8_col4\" class=\"data row8 col4\" >0.2190</td>\n",
              "      <td id=\"T_c50d0_row8_col5\" class=\"data row8 col5\" >0.1922</td>\n",
              "      <td id=\"T_c50d0_row8_col6\" class=\"data row8 col6\" >0.1681</td>\n",
              "      <td id=\"T_c50d0_row8_col7\" class=\"data row8 col7\" >0.1463</td>\n",
              "      <td id=\"T_c50d0_row8_col8\" class=\"data row8 col8\" >0.1265</td>\n",
              "      <td id=\"T_c50d0_row8_col9\" class=\"data row8 col9\" >0.1083</td>\n",
              "      <td id=\"T_c50d0_row8_col10\" class=\"data row8 col10\" >0.0915</td>\n",
              "    </tr>\n",
              "    <tr>\n",
              "      <th id=\"T_c50d0_level0_row9\" class=\"row_heading level0 row9\" >0.250000</th>\n",
              "      <td id=\"T_c50d0_row9_col0\" class=\"data row9 col0\" >0.3683</td>\n",
              "      <td id=\"T_c50d0_row9_col1\" class=\"data row9 col1\" >0.3226</td>\n",
              "      <td id=\"T_c50d0_row9_col2\" class=\"data row9 col2\" >0.2833</td>\n",
              "      <td id=\"T_c50d0_row9_col3\" class=\"data row9 col3\" >0.2492</td>\n",
              "      <td id=\"T_c50d0_row9_col4\" class=\"data row9 col4\" >0.2190</td>\n",
              "      <td id=\"T_c50d0_row9_col5\" class=\"data row9 col5\" >0.1922</td>\n",
              "      <td id=\"T_c50d0_row9_col6\" class=\"data row9 col6\" >0.1681</td>\n",
              "      <td id=\"T_c50d0_row9_col7\" class=\"data row9 col7\" >0.1463</td>\n",
              "      <td id=\"T_c50d0_row9_col8\" class=\"data row9 col8\" >0.1265</td>\n",
              "      <td id=\"T_c50d0_row9_col9\" class=\"data row9 col9\" >0.1083</td>\n",
              "      <td id=\"T_c50d0_row9_col10\" class=\"data row9 col10\" >0.0915</td>\n",
              "    </tr>\n",
              "    <tr>\n",
              "      <th id=\"T_c50d0_level0_row10\" class=\"row_heading level0 row10\" >0.300000</th>\n",
              "      <td id=\"T_c50d0_row10_col0\" class=\"data row10 col0\" >0.3683</td>\n",
              "      <td id=\"T_c50d0_row10_col1\" class=\"data row10 col1\" >0.3226</td>\n",
              "      <td id=\"T_c50d0_row10_col2\" class=\"data row10 col2\" >0.2833</td>\n",
              "      <td id=\"T_c50d0_row10_col3\" class=\"data row10 col3\" >0.2492</td>\n",
              "      <td id=\"T_c50d0_row10_col4\" class=\"data row10 col4\" >0.2190</td>\n",
              "      <td id=\"T_c50d0_row10_col5\" class=\"data row10 col5\" >0.1922</td>\n",
              "      <td id=\"T_c50d0_row10_col6\" class=\"data row10 col6\" >0.1681</td>\n",
              "      <td id=\"T_c50d0_row10_col7\" class=\"data row10 col7\" >0.1463</td>\n",
              "      <td id=\"T_c50d0_row10_col8\" class=\"data row10 col8\" >0.1265</td>\n",
              "      <td id=\"T_c50d0_row10_col9\" class=\"data row10 col9\" >0.1083</td>\n",
              "      <td id=\"T_c50d0_row10_col10\" class=\"data row10 col10\" >0.0915</td>\n",
              "    </tr>\n",
              "  </tbody>\n",
              "</table>\n"
            ]
          },
          "metadata": {}
        },
        {
          "output_type": "display_data",
          "data": {
            "text/plain": [
              "<Figure size 1500x400 with 2 Axes>"
            ],
            "image/png": "[encoded data removed]"
          },
          "metadata": {}
        }
      ]
    },
    {
      "cell_type": "markdown",
      "source": [
        "## Annuiteettimenetelmä"
      ],
      "metadata": {
        "id": "vyQBw6Koy1d6"
      }
    },
    {
      "cell_type": "markdown",
      "source": [
        "Annuiteettimenetelmässä tulot ja menot muutetaan vuotuisiksi korko huomioiden. Ne ns. annualisoidaan."
      ],
      "metadata": {
        "id": "tBthM2Ymy6Nv"
      }
    },
    {
      "cell_type": "markdown",
      "source": [
        "**Esimerkki**\n",
        "\n",
        "Yritys vertailee investointeja kahteen erilaiseen koneeseen.  \n",
        "\n",
        "Kuinka suuret vuotuiset nettotuotot/kustannussäästöt olisi laitteesta saatava aikaan  (voidaan olettaa, että tuotot saadaan kunkin vuoden lopussa), jos yrityksen tuottovaatimus tällaisille investoinneille on  14 % p.a.?\n",
        "\n",
        "Ensimmäisen koneen hinta on 200 000 euroa  ja oletetaan, että laitteen jäännösarvo on 15 000 € neljän vuoden pituiseksi arvioidun investointikauden jälkeen.\n",
        "\n",
        "Toisen koneen hinta taas on 500 000 € eikä sillä uskota olevan arvoa 7 vuoden mittaiseksi arvioidun investointikauden päätteeksi.\n"
      ],
      "metadata": {
        "id": "e8D69k6XzF97"
      }
    },
    {
      "cell_type": "code",
      "source": [
        "laskentakorko_koneet = 0.14 # vuotuinen tuottovaatimus\n",
        "\n",
        "investointikustannus_kone1 = 200000 # euroa\n",
        "investointiaika_kone1 = 4 # investoinnin kesto vuosina\n",
        "jaannosarvo_kone1 = 15000 # jäännösarvo euroina\n",
        "\n",
        "investointikustannus_kone2 = 500000 # euroa\n",
        "investointiaika_kone2 = 7 # investoinnin kesto vuosina\n",
        "jaannosarvo_kone2 = 0 # jäännösarvo euroina"
      ],
      "metadata": {
        "id": "vKfwheZYyNmm"
      },
      "execution_count": 100,
      "outputs": []
    },
    {
      "cell_type": "markdown",
      "source": [
        "Muutetaan esimerkin tuoto ja kustannukset vuotuisiksi annuiteeteiksi."
      ],
      "metadata": {
        "id": "Ow2oQw730fK9"
      }
    },
    {
      "cell_type": "code",
      "source": [
        "pmt_kone1 = npf.pmt(laskentakorko_koneet, investointiaika_kone1, -investointikustannus_kone1, jaannosarvo_kone1)\n",
        "\n",
        "pmt_kone2 = npf.pmt(laskentakorko_koneet, investointiaika_kone2, -investointikustannus_kone2, jaannosarvo_kone2)\n",
        "\n",
        "print('Ensimmäisen koneen vuotuisten nettotuottojen tulisi olla ', float_formatter(pmt_kone1),' euroa.')\n",
        "print('Toisen koneen vuotuisten nettotuottojen tulisi olla ', float_formatter(pmt_kone2),' euroa.')"
      ],
      "metadata": {
        "colab": {
          "base_uri": "https://localhost:8080/"
        },
        "id": "IHYFHd2v0TXK",
        "outputId": "73eb2dbe-7e4c-4387-a2ce-54d50e7c6387"
      },
      "execution_count": 104,
      "outputs": [
        {
          "output_type": "stream",
          "name": "stdout",
          "text": [
            "Ensimmäisen koneen vuotuisten nettotuottojen tulisi olla  65592.88  euroa.\n",
            "Toisen koneen vuotuisten nettotuottojen tulisi olla  116596.19  euroa.\n"
          ]
        }
      ]
    },
    {
      "cell_type": "code",
      "source": [
        "import datetime\n",
        "print(f'Last modified {datetime.datetime.now():%Y-%m-%d %H:%M} by Juha Nurmonen')"
      ],
      "metadata": {
        "colab": {
          "base_uri": "https://localhost:8080/"
        },
        "id": "ww-x0WRc1Cjc",
        "outputId": "cd447bd4-1522-43a1-d784-4e07b0b0c678"
      },
      "execution_count": 105,
      "outputs": [
        {
          "output_type": "stream",
          "name": "stdout",
          "text": [
            "Last modified 2024-02-07 18:57 by Juha Nurmonen\n"
          ]
        }
      ]
    }
  ]
}